{
 "cells": [
  {
   "cell_type": "markdown",
   "id": "8ef06374-1421-4c97-bfd8-ecec93614caa",
   "metadata": {},
   "source": [
    "Q.1. What are keywords in python? Using the keyword library, print all the python keywords.\n",
    "\n",
    "-> Keywords in Python are reserved words that have special meanings and purposes within the language. These keywords cannot be used as identifiers because they are already designated for specific tasks in Python."
   ]
  },
  {
   "cell_type": "code",
   "execution_count": 1,
   "id": "23b75f14-6bba-456f-9e21-182b6c74458c",
   "metadata": {},
   "outputs": [
    {
     "name": "stdout",
     "output_type": "stream",
     "text": [
      "False\n",
      "None\n",
      "True\n",
      "and\n",
      "as\n",
      "assert\n",
      "async\n",
      "await\n",
      "break\n",
      "class\n",
      "continue\n",
      "def\n",
      "del\n",
      "elif\n",
      "else\n",
      "except\n",
      "finally\n",
      "for\n",
      "from\n",
      "global\n",
      "if\n",
      "import\n",
      "in\n",
      "is\n",
      "lambda\n",
      "nonlocal\n",
      "not\n",
      "or\n",
      "pass\n",
      "raise\n",
      "return\n",
      "try\n",
      "while\n",
      "with\n",
      "yield\n"
     ]
    }
   ],
   "source": [
    "import keyword\n",
    "\n",
    "keywords = keyword.kwlist\n",
    "\n",
    "for keyword in keywords:\n",
    "    print(keyword)"
   ]
  },
  {
   "cell_type": "markdown",
   "id": "aae5e4f1-2ac1-4a0a-98f8-f3509bf6af07",
   "metadata": {},
   "source": []
  },
  {
   "cell_type": "markdown",
   "id": "01340c1c-94ef-4b41-a6a8-131e4ac11243",
   "metadata": {},
   "source": [
    "Q.2. What are the rules to create variables in python?\n",
    "* Variable names must start with a letter (a-z, A-Z) or an underscore (_).\n",
    "* The subsequent characters in the variable name can be letters, numbers (0-9), or underscores.\n",
    "* Variable names are case-sensitive.\n",
    "* Variable names should not be Python keywords.\n",
    "* Avoid using special characters or spaces in variable names."
   ]
  },
  {
   "cell_type": "markdown",
   "id": "62fa8386-7bc6-451e-b8b0-20ab4d48d987",
   "metadata": {},
   "source": []
  },
  {
   "cell_type": "markdown",
   "id": "b9c0cc1b-3964-44e8-adc9-0cb9d8e56e7c",
   "metadata": {},
   "source": [
    "Q.3. What are the standards and conventions followed for the nomenclature of variables in python to improve code readability and maintainability?\n",
    "* Use descriptive names: Choose meaningful names that describe the purpose of the variable.\n",
    "* Use lowercase letters: Variable names should be in lowercase, with words separated by underscores (snake_case).\n",
    "* Avoid single-letter names: Use names that provide context and avoid using single-letter variables except in specific cases.\n",
    "* Be consistent: Maintain a consistent naming style throughout your codebase.\n",
    "* Avoid underscores at the beginning: While underscores are allowed at the beginning of a variable name, they are often reserved for special cases.\n",
    "* Follow PEP 8: Adhere to the guidelines provided in Python's official style guide, PEP 8."
   ]
  },
  {
   "cell_type": "markdown",
   "id": "1e58cd65-4740-43f2-a756-7263f6a8fd9f",
   "metadata": {},
   "source": []
  },
  {
   "cell_type": "markdown",
   "id": "f6c84569-9bd4-45b8-b798-5536b549c670",
   "metadata": {},
   "source": [
    "Q.4. What will happen if a keyword is used as a variable name?\n",
    "* If a keyword is used as a variable name in Python, it will result in a syntax error. Keywords are reserved words with predefined meanings in the language, and they cannot be used as identifiers"
   ]
  },
  {
   "cell_type": "markdown",
   "id": "ef557ae2-99de-4a90-a74b-b19ea2308d70",
   "metadata": {},
   "source": []
  },
  {
   "cell_type": "markdown",
   "id": "7a4e5bbf-41cd-4764-9724-1b6eb841aa06",
   "metadata": {},
   "source": [
    "Q.5. For what purpose def keyword is used?\n",
    "* The `def` keyword in Python is used to define and create user-defined functions."
   ]
  },
  {
   "cell_type": "markdown",
   "id": "cffb36c2-fcb7-436f-a684-ea4134f42c36",
   "metadata": {},
   "source": []
  },
  {
   "cell_type": "markdown",
   "id": "db9ee14b-914a-4bc4-bb60-8ccf5b2cd30a",
   "metadata": {},
   "source": [
    "Q.6. What is the operation of this special character ‘\\’?\n",
    "* The special character \\ (backslash) in Python is used as an escape character. It is used to escape characters that would otherwise have a special meaning, allowing you to include them in strings or other contexts. For example, '\\n' represents a newline character, and '\\t' represents a tab character."
   ]
  },
  {
   "cell_type": "markdown",
   "id": "7b6c9519-9c1d-4c47-bc3a-44a07f9b7c1a",
   "metadata": {},
   "source": []
  },
  {
   "cell_type": "markdown",
   "id": "9a96ee4d-1c88-4257-8a7b-5d168a8e8a89",
   "metadata": {},
   "source": [
    "Q.7. Give an example of the following conditions:\n",
    "* Homogeneous list - [10, 20, 30, 40, 50]\n",
    "* Heterogeneous set - {10, 'apple', 3.14, 'banana'}\n",
    "* Homogeneous tuple - ('apple', 'banana', 'orange', 'grape')"
   ]
  },
  {
   "cell_type": "markdown",
   "id": "ac1d90cf-2d42-45b2-9259-8535b267eadb",
   "metadata": {},
   "source": []
  },
  {
   "cell_type": "markdown",
   "id": "c3d9209d-979d-417b-ae38-5bb4aae679d1",
   "metadata": {},
   "source": [
    "Q.8. Explain the mutable and immutable data types with proper explanation & examples.\n",
    "* Mutable Objects:\n",
    "    Mutable objects are those whose state (data) can be modified after creation. This means you can change the values of mutable objects without creating a new object. Lists, dictionaries, and sets are examples of mutable objects."
   ]
  },
  {
   "cell_type": "code",
   "execution_count": 2,
   "id": "700d30d9-c720-4772-a00e-6c35380ade54",
   "metadata": {},
   "outputs": [
    {
     "name": "stdout",
     "output_type": "stream",
     "text": [
      "[1, 10, 3]\n"
     ]
    }
   ],
   "source": [
    "mutable_list = [1, 2, 3]\n",
    "mutable_list[1] = 10\n",
    "print(mutable_list)   # Output: [1, 10, 3]"
   ]
  },
  {
   "cell_type": "markdown",
   "id": "a8ce7c87-ce23-4050-900a-616ddc799342",
   "metadata": {},
   "source": [
    "* Immutable Objects:\n",
    "    Immutable objects are those whose state cannot be changed after they are created. If you want to change the value of an immutable object, you need to create a new object. Integers, floats, strings, and tuples are examples of immutable objects."
   ]
  },
  {
   "cell_type": "code",
   "execution_count": 3,
   "id": "d43b7a34-c769-4053-b14b-e325a5754f2d",
   "metadata": {},
   "outputs": [],
   "source": [
    "immutable_integer = 5\n",
    "immutable_string = \"hello\"\n",
    "immutable_tuple = (1, 2, 3)"
   ]
  },
  {
   "cell_type": "markdown",
   "id": "23c2d21f-d2b9-4072-8764-e0c57fa95cf1",
   "metadata": {},
   "source": []
  },
  {
   "cell_type": "code",
   "execution_count": null,
   "id": "95a9ae43-7101-48e7-a981-6096f9501d3f",
   "metadata": {},
   "outputs": [],
   "source": [
    "'''\n",
    "Q.9. Write a code to create the given structure using only for loop.\n",
    "     *\n",
    "    ***\n",
    "   *****\n",
    "  *******\n",
    " *********\n",
    "'''"
   ]
  },
  {
   "cell_type": "code",
   "execution_count": 4,
   "id": "69b79c64-247d-480b-ba6d-2c8bcce97dd6",
   "metadata": {},
   "outputs": [
    {
     "name": "stdout",
     "output_type": "stream",
     "text": [
      "    *\n",
      "   ***\n",
      "  *****\n",
      " *******\n",
      "*********\n"
     ]
    }
   ],
   "source": [
    "rows = 5\n",
    "\n",
    "for i in range(rows):\n",
    "    for j in range(rows - i - 1):\n",
    "        print(\" \", end=\"\")\n",
    "    \n",
    "    for j in range(2 * i + 1):\n",
    "        print(\"*\", end=\"\")\n",
    "    \n",
    "    print()\n"
   ]
  },
  {
   "cell_type": "markdown",
   "id": "147085b0-ec1a-4c78-9ab0-28b53c4ca60d",
   "metadata": {},
   "source": []
  },
  {
   "cell_type": "code",
   "execution_count": null,
   "id": "57868f73-ed5e-44b4-a6a2-bb473c7bf522",
   "metadata": {},
   "outputs": [],
   "source": [
    "'''\n",
    "Q.10. Write a code to create the given structure using while loop.\n",
    "|||||||||\n",
    " |||||||\n",
    "  |||||\n",
    "   |||\n",
    "    |\n",
    "'''"
   ]
  },
  {
   "cell_type": "code",
   "execution_count": 6,
   "id": "310d3d6d-bccd-41ce-81c7-119366e3ea74",
   "metadata": {},
   "outputs": [
    {
     "name": "stdout",
     "output_type": "stream",
     "text": [
      "|||||||||\n",
      " |||||||\n",
      "  |||||\n",
      "   |||\n",
      "    |\n"
     ]
    }
   ],
   "source": [
    "n = 5\n",
    "\n",
    "i = n\n",
    "while i >= 1:\n",
    "    j = n - i\n",
    "    while j > 0:\n",
    "        print(\" \", end=\"\")\n",
    "        j -= 1\n",
    "    k = 2 * i - 1\n",
    "    while k > 0:\n",
    "        print(\"|\", end=\"\")\n",
    "        k -= 1\n",
    "    print()  #next line\n",
    "    i -= 1\n"
   ]
  },
  {
   "cell_type": "code",
   "execution_count": null,
   "id": "7ba77de2-7432-4636-986d-f021eb5bef73",
   "metadata": {},
   "outputs": [],
   "source": []
  }
 ],
 "metadata": {
  "kernelspec": {
   "display_name": "Python 3 (ipykernel)",
   "language": "python",
   "name": "python3"
  },
  "language_info": {
   "codemirror_mode": {
    "name": "ipython",
    "version": 3
   },
   "file_extension": ".py",
   "mimetype": "text/x-python",
   "name": "python",
   "nbconvert_exporter": "python",
   "pygments_lexer": "ipython3",
   "version": "3.10.6"
  }
 },
 "nbformat": 4,
 "nbformat_minor": 5
}
