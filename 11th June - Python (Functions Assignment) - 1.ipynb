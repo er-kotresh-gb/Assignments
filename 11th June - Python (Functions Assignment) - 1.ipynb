{
 "cells": [
  {
   "cell_type": "markdown",
   "id": "4b26f0e7-00b7-4b54-ade4-449668d32346",
   "metadata": {},
   "source": [
    "Q1. What is a lambda function in Python, and how does it differ from a regular function?\n",
    "* Lambda functions in Python are small, anonymous functions that can be defined using the lambda keyword. They are often used for simple operations where a full function definition is not necessary.\n",
    "\n",
    "*Differences from regular functions:\n",
    "* Syntax: Lambda functions are defined in a single line, while regular functions use the def keyword and can have multiple lines of code.\n",
    "* Name: Lambda functions are unnamed by default, whereas regular functions have a defined name.\n",
    "* Complexity: Lambda functions are limited to simple expressions, while regular functions can handle more complex tasks."
   ]
  },
  {
   "cell_type": "markdown",
   "id": "613e595a-2b01-4649-a4ce-eaec6be51cc3",
   "metadata": {},
   "source": []
  },
  {
   "cell_type": "markdown",
   "id": "c6e18688-3e08-4adc-a83c-7b9f8e123cb2",
   "metadata": {},
   "source": [
    "Q2. Can a lambda function in Python have multiple arguments? If yes, how can you define and use them?\n",
    "* A lambda function in Python can have multiple arguments. You can define and use multiple arguments in a lambda function by separating them with commas, just like in a regular function."
   ]
  },
  {
   "cell_type": "code",
   "execution_count": 1,
   "id": "58d1d943-3d4e-4b83-958d-f4c1c11cdaa0",
   "metadata": {},
   "outputs": [
    {
     "name": "stdout",
     "output_type": "stream",
     "text": [
      "8\n"
     ]
    }
   ],
   "source": [
    "# Lambda function with two arguments\n",
    "add = lambda x, y: x + y\n",
    "\n",
    "result = add(3, 5)\n",
    "print(result)"
   ]
  },
  {
   "cell_type": "markdown",
   "id": "4652e07b-3ed9-412c-b097-b0581ccf8b41",
   "metadata": {},
   "source": []
  },
  {
   "cell_type": "markdown",
   "id": "d71a2025-fb72-43c8-9749-87595a442d38",
   "metadata": {},
   "source": [
    "Q3. How are lambda functions typically used in Python? Provide an example use case.\n",
    "* Lambda functions in Python are typically used for short, simple operations where a full function definition is unnecessary. They are often employed in functional programming constructs like map(), filter(), and sorted(), as well as for quick, disposable functions."
   ]
  },
  {
   "cell_type": "code",
   "execution_count": 2,
   "id": "221c5e40-4eca-4f45-857a-27132e4a5590",
   "metadata": {},
   "outputs": [
    {
     "name": "stdout",
     "output_type": "stream",
     "text": [
      "[1, 4, 9, 16, 25]\n"
     ]
    }
   ],
   "source": [
    "# Example use case with map()\n",
    "\n",
    "numbers = [1, 2, 3, 4, 5]\n",
    "squared_numbers = map(lambda x: x ** 2, numbers)\n",
    "print(list(squared_numbers))"
   ]
  },
  {
   "cell_type": "markdown",
   "id": "ed46ec61-e0a7-4bd5-82dd-82d471af7ff0",
   "metadata": {},
   "source": []
  },
  {
   "cell_type": "markdown",
   "id": "46c8fc45-d2e9-4f2d-9b98-9e7f74b0cde2",
   "metadata": {},
   "source": [
    "Q4. What are the advantages and limitations of lambda functions compared to regular functions in Python?\n",
    "1. Advantages of lambda functions:\n",
    "* Conciseness: Lambda functions are compact and allow you to define simple operations in a single line.\n",
    "* Readability: They are useful for short, well-defined operations that are easy to understand.\n",
    "* Functional Programming: Lambda functions are useful in functional programming constructs like map(), filter(), and sorted().\n",
    "\n",
    "2. Limitations of lambda functions:\n",
    "* Complexity: Lambda functions are limited to simple expressions and cannot contain complex statements or multiple lines of code.\n",
    "* Limited Functionality: They are not suitable for creating large or complex functions; regular functions are more appropriate.\n",
    "* Debugging: Debugging can be more challenging with lambda functions due to their limited structure."
   ]
  },
  {
   "cell_type": "markdown",
   "id": "b9dede14-10f8-4316-ac54-b6bea94f6ee3",
   "metadata": {},
   "source": []
  },
  {
   "cell_type": "markdown",
   "id": "9f93c938-aa4a-4132-8ec1-3fb0f1e7deda",
   "metadata": {},
   "source": [
    "Q5. Are lambda functions in Python able to access variables defined outside of their own scope? Explain with an example.\n",
    "* lambda functions in Python can access variables defined outside of their own scope. They can access variables from the surrounding scope in which they were created. This behavior is similar to regular functions."
   ]
  },
  {
   "cell_type": "code",
   "execution_count": 3,
   "id": "2f88f85f-09ba-4226-836e-f068eaab01a8",
   "metadata": {},
   "outputs": [
    {
     "name": "stdout",
     "output_type": "stream",
     "text": [
      "18\n"
     ]
    }
   ],
   "source": [
    "def outer_function(x):\n",
    "    y = 10\n",
    "    lambda_func = lambda z: x + y + z\n",
    "    return lambda_func\n",
    "\n",
    "inner_lambda = outer_function(5)\n",
    "result = inner_lambda(3)\n",
    "print(result)"
   ]
  },
  {
   "cell_type": "markdown",
   "id": "fd1b7789-af5d-469c-b473-68d8f95832f2",
   "metadata": {},
   "source": []
  },
  {
   "cell_type": "markdown",
   "id": "50e9834f-a507-4373-a0f0-e70f50093620",
   "metadata": {},
   "source": [
    "Q6. Write a lambda function to calculate the square of a given number."
   ]
  },
  {
   "cell_type": "code",
   "execution_count": 4,
   "id": "7f27eb59-b6c8-4eea-9b3b-cae269067a74",
   "metadata": {},
   "outputs": [
    {
     "name": "stdout",
     "output_type": "stream",
     "text": [
      "25\n"
     ]
    }
   ],
   "source": [
    "square = lambda x: x ** 2\n",
    "\n",
    "number = 5\n",
    "result = square(number)\n",
    "print(result)"
   ]
  },
  {
   "cell_type": "markdown",
   "id": "79dd7eba-008f-428b-9edf-79d4a83e0a44",
   "metadata": {},
   "source": []
  },
  {
   "cell_type": "markdown",
   "id": "087de44f-de65-4d8c-801b-dc2cbacd0043",
   "metadata": {},
   "source": [
    "Q7. Create a lambda function to find the maximum value in a list of integers."
   ]
  },
  {
   "cell_type": "code",
   "execution_count": 5,
   "id": "e85bc8d0-838d-4d35-9baf-495664723177",
   "metadata": {},
   "outputs": [
    {
     "name": "stdout",
     "output_type": "stream",
     "text": [
      "89\n"
     ]
    }
   ],
   "source": [
    "numbers = [12, 45, 67, 23, 89, 34]\n",
    "max_value = lambda lst: max(lst)\n",
    "\n",
    "result = max_value(numbers)\n",
    "print(result)"
   ]
  },
  {
   "cell_type": "markdown",
   "id": "39d837dc-3692-4948-82f2-b11ff0140899",
   "metadata": {},
   "source": []
  },
  {
   "cell_type": "markdown",
   "id": "e26e8e60-4f47-410f-b3fa-d2990821461c",
   "metadata": {},
   "source": [
    "Q8. Implement a lambda function to filter out all the even numbers from a list of integers."
   ]
  },
  {
   "cell_type": "code",
   "execution_count": 6,
   "id": "1b58b8b6-0942-4fe1-b740-ff551010e2b5",
   "metadata": {},
   "outputs": [
    {
     "name": "stdout",
     "output_type": "stream",
     "text": [
      "[12, 34]\n"
     ]
    }
   ],
   "source": [
    "numbers = [12, 45, 67, 23, 89, 34]\n",
    "even_numbers = lambda lst: list(filter(lambda x: x % 2 == 0, lst))\n",
    "\n",
    "result = even_numbers(numbers)\n",
    "print(result)"
   ]
  },
  {
   "cell_type": "markdown",
   "id": "7b22e4b5-cf9e-4455-b6e5-be1fd14dd8db",
   "metadata": {},
   "source": []
  },
  {
   "cell_type": "markdown",
   "id": "39af80a7-8b7e-4acf-a5cc-833f6e51aec1",
   "metadata": {},
   "source": [
    "Q9. Write a lambda function to sort a list of strings in ascending order based on the length of each string."
   ]
  },
  {
   "cell_type": "code",
   "execution_count": 8,
   "id": "153f398e-841e-458e-b87a-cc88afbab141",
   "metadata": {},
   "outputs": [
    {
     "name": "stdout",
     "output_type": "stream",
     "text": [
      "['Ant', 'Cook', 'Ruben', 'Banana', 'Donkey']\n"
     ]
    }
   ],
   "source": [
    "strings = [\"Ant\", \"Banana\", \"Cook\", \"Donkey\", \"Ruben\"]\n",
    "sorted_strings = sorted(strings, key=lambda x: len(x))\n",
    "\n",
    "print(sorted_strings)"
   ]
  },
  {
   "cell_type": "markdown",
   "id": "9dc481d7-b619-4c04-a814-a87c8c301adf",
   "metadata": {},
   "source": []
  },
  {
   "cell_type": "markdown",
   "id": "335e3b13-22be-476f-8177-74ed4de56156",
   "metadata": {},
   "source": [
    "Q10. Create a lambda function that takes two lists as input and returns a new list containing the common elements between the two lists."
   ]
  },
  {
   "cell_type": "code",
   "execution_count": 9,
   "id": "ecf88a09-0fd6-40e6-95cb-e4f88bb91e20",
   "metadata": {},
   "outputs": [
    {
     "name": "stdout",
     "output_type": "stream",
     "text": [
      "[3, 4, 5]\n"
     ]
    }
   ],
   "source": [
    "list1 = [1, 2, 3, 4, 5]\n",
    "list2 = [3, 4, 5, 6, 7]\n",
    "\n",
    "comn_elements = lambda lst1, lst2: list(filter(lambda x: x in lst2, lst1))\n",
    "\n",
    "result = comn_elements(list1, list2)\n",
    "print(result)"
   ]
  },
  {
   "cell_type": "markdown",
   "id": "b450b4ed-dcda-4359-a308-0c2312bc6162",
   "metadata": {},
   "source": []
  },
  {
   "cell_type": "markdown",
   "id": "80062e4b-5961-4ce1-8544-2bc661260ea1",
   "metadata": {},
   "source": [
    "Q11. Write a recursive function to calculate the factorial of a given positive integer."
   ]
  },
  {
   "cell_type": "code",
   "execution_count": 10,
   "id": "442ac737-3990-4ca9-9c2c-a82938953982",
   "metadata": {},
   "outputs": [
    {
     "name": "stdin",
     "output_type": "stream",
     "text": [
      "Enter an integer:  7\n"
     ]
    },
    {
     "name": "stdout",
     "output_type": "stream",
     "text": [
      "The factorial of 7 is 5040\n"
     ]
    }
   ],
   "source": [
    "def factorial(n):\n",
    "    if n == 0 or n == 1:\n",
    "        return 1\n",
    "    else:\n",
    "        return n * factorial(n - 1)\n",
    "\n",
    "number = int(input(\"Enter an integer: \"))\n",
    "if number < 0:\n",
    "    print(\"Factorial is not defined for negative numbers.\")\n",
    "else:\n",
    "    result = factorial(number)\n",
    "    print(f\"The factorial of {number} is {result}\")\n"
   ]
  },
  {
   "cell_type": "markdown",
   "id": "0f545b39-90d0-451b-ab5f-56da6411ece1",
   "metadata": {},
   "source": []
  },
  {
   "cell_type": "markdown",
   "id": "7f02cc15-347d-4465-8062-ab79fbeaf4a0",
   "metadata": {},
   "source": [
    "Q12. Implement a recursive function to compute the nth Fibonacci number."
   ]
  },
  {
   "cell_type": "code",
   "execution_count": 11,
   "id": "570edb3d-65c1-4de4-bc01-6c34f9629200",
   "metadata": {},
   "outputs": [
    {
     "name": "stdin",
     "output_type": "stream",
     "text": [
      "Enter an integer:  6\n"
     ]
    },
    {
     "name": "stdout",
     "output_type": "stream",
     "text": [
      "The 6th Fibonacci number is 8\n"
     ]
    }
   ],
   "source": [
    "def fibonacci(n):\n",
    "    if n <= 0:\n",
    "        return 0\n",
    "    elif n == 1:\n",
    "        return 1\n",
    "    else:\n",
    "        return fibonacci(n - 1) + fibonacci(n - 2)\n",
    "\n",
    "n = int(input(\"Enter an integer: \"))\n",
    "if n < 0:\n",
    "    print(\"Fibonacci sequence is not defined for negative numbers.\")\n",
    "else:\n",
    "    result = fibonacci(n)\n",
    "    print(f\"The {n}th Fibonacci number is {result}\")"
   ]
  },
  {
   "cell_type": "markdown",
   "id": "a768fc46-8042-42de-81ea-bd2644c0f13e",
   "metadata": {},
   "source": []
  },
  {
   "cell_type": "markdown",
   "id": "f8a523d1-d8d7-4a84-a85b-4a01480e2afc",
   "metadata": {},
   "source": [
    "Q13. Create a recursive function to find the sum of all the elements in a given list."
   ]
  },
  {
   "cell_type": "code",
   "execution_count": 12,
   "id": "c68bcc09-ebab-49d1-90df-6bdce4c2c322",
   "metadata": {},
   "outputs": [
    {
     "name": "stdout",
     "output_type": "stream",
     "text": [
      "The sum of the elements is: 15\n"
     ]
    }
   ],
   "source": [
    "def recursive_sum(lst):\n",
    "    if not lst:\n",
    "        return 0\n",
    "    else:\n",
    "        return lst[0] + recursive_sum(lst[1:])\n",
    "\n",
    "numbers = [1, 2, 3, 4, 5]\n",
    "result = recursive_sum(numbers)\n",
    "print(f\"The sum of the elements is: {result}\")"
   ]
  },
  {
   "cell_type": "markdown",
   "id": "1d83ffd3-5863-4384-8680-8612af4c190b",
   "metadata": {},
   "source": []
  },
  {
   "cell_type": "markdown",
   "id": "6ecc5a6f-c2c2-4521-9d85-61a3fe3c9ba3",
   "metadata": {},
   "source": [
    "Q14. Write a recursive function to determine whether a given string is a palindrome."
   ]
  },
  {
   "cell_type": "code",
   "execution_count": 14,
   "id": "4233149c-2aac-46cb-8afd-5aa4ddac6594",
   "metadata": {},
   "outputs": [
    {
     "name": "stdin",
     "output_type": "stream",
     "text": [
      "Enter a string:  Kotresh\n"
     ]
    },
    {
     "name": "stdout",
     "output_type": "stream",
     "text": [
      "Kotresh is not a palindrome.\n"
     ]
    }
   ],
   "source": [
    "def is_palindrome(s):\n",
    "    if len(s) <= 1:\n",
    "        return True\n",
    "    elif s[0] != s[-1]:\n",
    "        return False\n",
    "    else:\n",
    "        return is_palindrome(s[1:-1])\n",
    "\n",
    "input_string = input(\"Enter a string: \")\n",
    "if is_palindrome(input_string):\n",
    "    print(f\"{input_string} is a palindrome.\")\n",
    "else:\n",
    "    print(f\"{input_string} is not a palindrome.\")"
   ]
  },
  {
   "cell_type": "markdown",
   "id": "a4c6fa9c-cb98-4180-9bbf-4d98c68fca46",
   "metadata": {},
   "source": []
  },
  {
   "cell_type": "markdown",
   "id": "f34cb0f7-a85e-41c5-a535-e543787dca14",
   "metadata": {},
   "source": [
    "Q15. Implement a recursive function to find the greatest common divisor (GCD) of two positive integers."
   ]
  },
  {
   "cell_type": "code",
   "execution_count": 15,
   "id": "7589fb7c-3bf9-4ad9-b124-a0719bf7a6fd",
   "metadata": {},
   "outputs": [
    {
     "name": "stdin",
     "output_type": "stream",
     "text": [
      "Enter the first integer:  6\n",
      "Enter the second integer:  8\n"
     ]
    },
    {
     "name": "stdout",
     "output_type": "stream",
     "text": [
      "The GCD of 6 and 8 is 2\n"
     ]
    }
   ],
   "source": [
    "def gcd(a, b):\n",
    "    if b == 0:\n",
    "        return a\n",
    "    else:\n",
    "        return gcd(b, a % b)\n",
    "\n",
    "num1 = int(input(\"Enter the first integer: \"))\n",
    "num2 = int(input(\"Enter the second integer: \"))\n",
    "\n",
    "if num1 <= 0 or num2 <= 0:\n",
    "    print(\"Please enter positive integers.\")\n",
    "else:\n",
    "    result = gcd(num1, num2)\n",
    "    print(f\"The GCD of {num1} and {num2} is {result}\")"
   ]
  },
  {
   "cell_type": "code",
   "execution_count": null,
   "id": "526d9e9d-89a9-4ffd-937c-0e6c36c5b7cf",
   "metadata": {},
   "outputs": [],
   "source": []
  }
 ],
 "metadata": {
  "kernelspec": {
   "display_name": "Python 3 (ipykernel)",
   "language": "python",
   "name": "python3"
  },
  "language_info": {
   "codemirror_mode": {
    "name": "ipython",
    "version": 3
   },
   "file_extension": ".py",
   "mimetype": "text/x-python",
   "name": "python",
   "nbconvert_exporter": "python",
   "pygments_lexer": "ipython3",
   "version": "3.10.6"
  }
 },
 "nbformat": 4,
 "nbformat_minor": 5
}
