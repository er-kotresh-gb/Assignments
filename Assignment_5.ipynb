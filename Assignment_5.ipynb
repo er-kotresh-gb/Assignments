{
 "cells": [
  {
   "cell_type": "code",
   "execution_count": null,
   "id": "de2a5cea-e3ad-450d-8b38-3679a626e97f",
   "metadata": {},
   "outputs": [],
   "source": [
    "'''\n",
    "1. What does an empty dictionary's code look like?\n",
    "-> my_dict = {}\n",
    "\n",
    "\n",
    "2. What is the value of a dictionary value with the key 'foo' and the value 42?\n",
    "-> my_dict = {'foo': 42}\n",
    "\n",
    "\n",
    "3. What is the most significant distinction between a dictionary and a list?\n",
    "-> The most significant distinction between a dictionary and a list is that a dictionary stores data in key-value pairs, \n",
    "   allowing you to access values using keys, while a list stores data in a linear sequence, allowing you to access values using indices.\n",
    "\n",
    "\n",
    "4. What happens if you try to access spam['foo'] if spam is {'bar': 100}?\n",
    "-> Will encounter a KeyError because the key 'foo' does not exist in the dictionary spam.\n",
    "\n",
    "\n",
    "5. If a dictionary is stored in spam, what is the difference between the expressions 'cat' in spam and cat in spam.keys()?\n",
    "-> Both expressions essentially check for the presence of the key 'cat' in the dictionary spam. \n",
    "   The difference is that the first expression checks directly in the dictionary, while the second expression explicitly \n",
    "   checks in the keys of the dictionary using the keys() method.\n",
    "\n",
    "\n",
    "6. If a dictionary is stored in spam, what is the difference between the expressions 'cat' in spam and 'cat' in spam.values()?\n",
    "-> The expression 'cat' in spam checks if the key 'cat' exists in the keys of the dictionary spam.\n",
    "   The expression 'cat' in spam.values() checks if the value 'cat' exists in the values of the dictionary spam.\n",
    "\n",
    "7. What is a shortcut for the following code?\n",
    "   if 'color' not in spam:\n",
    "       spam['color'] = 'black'\n",
    "-> spam['color'] = spam.get('color', 'black')\n",
    "\n",
    "\n",
    "8. How do you \"pretty print\" dictionary values using which module and function?\n",
    "-> import pprint\n",
    "   my_dict = {'name': 'Kotresh', 'age': 23, 'city': 'Bangalore'}\n",
    "   pprint.pprint(my_dict)\n",
    "\n",
    "'''"
   ]
  }
 ],
 "metadata": {
  "kernelspec": {
   "display_name": "Python 3 (ipykernel)",
   "language": "python",
   "name": "python3"
  },
  "language_info": {
   "codemirror_mode": {
    "name": "ipython",
    "version": 3
   },
   "file_extension": ".py",
   "mimetype": "text/x-python",
   "name": "python",
   "nbconvert_exporter": "python",
   "pygments_lexer": "ipython3",
   "version": "3.10.6"
  }
 },
 "nbformat": 4,
 "nbformat_minor": 5
}
