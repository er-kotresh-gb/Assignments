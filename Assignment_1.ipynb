{
 "cells": [
  {
   "cell_type": "code",
   "execution_count": 2,
   "id": "39ec1305-d5cd-4fe7-9d97-c3a046479159",
   "metadata": {},
   "outputs": [
    {
     "data": {
      "text/plain": [
       "\"\\n1. In the below elements which of them are values or an expression? eg:- values can be\\ninteger or string and expressions will be mathematical operators.\\n\\n* - Expression\\n'hello' - String\\n-87.8 - Floating point value\\n- - Expression\\n/ - Expression\\n+ - Expression\\n6 - Integer Value\\n\\n\""
      ]
     },
     "execution_count": 2,
     "metadata": {},
     "output_type": "execute_result"
    }
   ],
   "source": [
    "\"\"\"\n",
    "1. In the below elements which of them are values or an expression? eg:- values can be\n",
    "integer or string and expressions will be mathematical operators.\n",
    "\n",
    "* - Expression\n",
    "'hello' - String\n",
    "-87.8 - Floating point value\n",
    "- - Expression\n",
    "/ - Expression\n",
    "+ - Expression\n",
    "6 - Integer Value\n",
    "\n",
    "\"\"\""
   ]
  },
  {
   "cell_type": "code",
   "execution_count": 3,
   "id": "1c800a59-6f19-47c7-b324-ae539b5ccf21",
   "metadata": {},
   "outputs": [
    {
     "data": {
      "text/plain": [
       "\"\\n2. What is the difference between string and variable?\\n-> A string is a sequence of characters, such as letters, numbers, and symbols,\\n   used to represent text data. A variable, on the other hand, is a symbolic name\\n   given to a storage location in a program's memory where data can be stored, \\n   including strings and other types of data. In simpler terms, a string is the actual text,\\n   while a variable is a placeholder that can hold various types of data, including strings.\\n\""
      ]
     },
     "execution_count": 3,
     "metadata": {},
     "output_type": "execute_result"
    }
   ],
   "source": [
    "\"\"\"\n",
    "2. What is the difference between string and variable?\n",
    "-> A string is a sequence of characters, such as letters, numbers, and symbols,\n",
    "   used to represent text data. A variable, on the other hand, is a symbolic name\n",
    "   given to a storage location in a program's memory where data can be stored, \n",
    "   including strings and other types of data. In simpler terms, a string is the actual text,\n",
    "   while a variable is a placeholder that can hold various types of data, including strings.\n",
    "\"\"\""
   ]
  },
  {
   "cell_type": "code",
   "execution_count": null,
   "id": "1cd9a6b9-a562-4603-a856-730ad257cef3",
   "metadata": {},
   "outputs": [],
   "source": [
    "\"\"\"\n",
    "3. Describe three different data types.\n",
    "-> Integer: Integers are whole numbers, both positive and negative, without any decimal points.\n",
    "   They are used to represent discrete quantities, such as counting or indexing. For example, 5, -10, and 0 are integers.\n",
    "   \n",
    "   String: Strings are sequences of characters, enclosed in single (' ') or double (\" \") quotes. \n",
    "   They are used to represent textual data, such as words, sentences, or any other sequence of characters. For example, \n",
    "   \"Hello, world!\" and 'Python is fun' are strings.\n",
    "   \n",
    "   Float: Floats are numbers with decimal points or in exponential notation. They are used to represent real numbers, \n",
    "   including fractions and approximations. For example, 3.14, -0.001, and 2.5e-3 are floating-point numbers.\n",
    "   \n",
    "\"\"\""
   ]
  },
  {
   "cell_type": "code",
   "execution_count": null,
   "id": "471afbb7-c913-4802-9458-7831870bb5a8",
   "metadata": {},
   "outputs": [],
   "source": [
    "\"\"\"\n",
    "4. What is an expression made up of? What do all expressions do?\n",
    "-> An expression is made up of variables, operators, and values that, when evaluated, produce a result. \n",
    "   All expressions compute or yield a value, which can be a number, text, boolean, or any other data type. \n",
    "   They are fundamental in programming for performing calculations, making decisions, and generating new data based on existing values.\n",
    "   \n",
    "\"\"\""
   ]
  },
  {
   "cell_type": "code",
   "execution_count": null,
   "id": "9819b2b1-f5bf-4892-87a6-fa0aef84ef6c",
   "metadata": {},
   "outputs": [],
   "source": [
    "\"\"\"\n",
    "5. This assignment statements, like spam = 10. What is the difference between an expression and a statement?\n",
    "-> An expression produces a value when evaluated, while a statement performs an action or assignment. \n",
    "   In the assignment statement \"spam = 10,\" the expression is \"10,\" which produces the value 10, and the statement \n",
    "   assigns that value to the variable \"spam.\" Expressions yield values, while statements execute actions or assignments.\n",
    "   \n",
    "\"\"\""
   ]
  },
  {
   "cell_type": "code",
   "execution_count": null,
   "id": "593dd1eb-572a-4494-a0f3-32eed4e322dc",
   "metadata": {},
   "outputs": [],
   "source": [
    "\"\"\"\n",
    "6. After running the following code, what does the variable bacon contain?\n",
    "bacon = 22\n",
    "bacon + 1\n",
    "\n",
    "-> The variable \"bacon\" would still contain the value 22.\n",
    "   The expression \"bacon + 1\" evaluates to 23, but since the result of the expression is not assigned to any variable, \n",
    "   the value of \"bacon\" remains unchanged at 22.\n",
    "   \n",
    "\"\"\""
   ]
  },
  {
   "cell_type": "code",
   "execution_count": null,
   "id": "b7f5059c-5972-4c4d-bc58-192b9f5d74ad",
   "metadata": {},
   "outputs": [],
   "source": [
    "\"\"\"\n",
    "7. What should the values of the following two terms be?\n",
    "'spam' + 'spamspam'\n",
    "'spam' * 3\n",
    "\n",
    "->'spamspamspam'\n",
    "  'spamspamspam'\n",
    "  \n",
    "\"\"\""
   ]
  },
  {
   "cell_type": "code",
   "execution_count": null,
   "id": "ed65b862-03b2-4adc-bffb-37f2a4d2d78a",
   "metadata": {},
   "outputs": [],
   "source": [
    "\"\"\"\n",
    "8. Why is eggs a valid variable name while 100 is invalid?\n",
    "-> Since eggs starts with a letter and does not violate any of the rules, it is a valid variable name. \n",
    "   On the other hand, 100 starts with a digit, violating the variable naming rule and making it an invalid variable name.\n",
    "\"\"\""
   ]
  },
  {
   "cell_type": "code",
   "execution_count": null,
   "id": "df4216e2-c158-4823-9fb6-3a4e8a6a62fc",
   "metadata": {},
   "outputs": [],
   "source": [
    "\"\"\"\n",
    "9. What three functions can be used to get the integer, floating-point number, or string version of a value?\n",
    "-> int(), float(), str()\n",
    "\n",
    "\"\"\""
   ]
  },
  {
   "cell_type": "code",
   "execution_count": null,
   "id": "50c628f3-975c-41e9-830a-f8fa92432600",
   "metadata": {},
   "outputs": [],
   "source": [
    "\"\"\"\n",
    "10. Why does this expression cause an error? How can you fix it?\n",
    "'I have eaten ' + 99 + 'burritos.'\n",
    "\n",
    "-> The expression causes an error because you are trying to concatenate a string ('I have eaten ') with an integer (99) directly, \n",
    "   which is not allowed in Python.\n",
    "   To fix it, you need to convert the integer 99 to a string using the str() function before concatenating. Here's the corrected expression:\n",
    "   'I have eaten ' + str(99) + ' burritos.'\n",
    "\n",
    "\"\"\""
   ]
  }
 ],
 "metadata": {
  "kernelspec": {
   "display_name": "Python 3 (ipykernel)",
   "language": "python",
   "name": "python3"
  },
  "language_info": {
   "codemirror_mode": {
    "name": "ipython",
    "version": 3
   },
   "file_extension": ".py",
   "mimetype": "text/x-python",
   "name": "python",
   "nbconvert_exporter": "python",
   "pygments_lexer": "ipython3",
   "version": "3.10.6"
  }
 },
 "nbformat": 4,
 "nbformat_minor": 5
}
