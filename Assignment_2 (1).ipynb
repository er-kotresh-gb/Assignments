{
 "cells": [
  {
   "cell_type": "code",
   "execution_count": null,
   "id": "f53bafa0-8f9e-40f5-83cb-643c4b88c0e3",
   "metadata": {},
   "outputs": [],
   "source": [
    "1. What are the two values of the Boolean data type? How do you write them?\n",
    "-> The Boolean data type has two possible values: true and false\n",
    "   In Python we write boolean values as True and False"
   ]
  },
  {
   "cell_type": "code",
   "execution_count": null,
   "id": "94cc75e0-ef88-4945-8e53-c8cce065929b",
   "metadata": {},
   "outputs": [],
   "source": [
    "2. What are the three different types of Boolean operators?\n",
    "-> and - The and operator returns True if both of its operands are True, and False otherwise.\n",
    "   or - The or operator returns True if at least one of its operands is True, and False if both operands are False.\n",
    "   not - The not operator is a unary operator that returns the opposite of the operand's value."
   ]
  },
  {
   "cell_type": "code",
   "execution_count": null,
   "id": "fa515fff-b4bf-4f08-8227-49e9b56d1884",
   "metadata": {},
   "outputs": [],
   "source": [
    "3. Make a list of each Boolean operator's truth tables (i.e. every possible combination of Boolean\n",
    "   values for the operator and what it evaluate ).\n",
    "-> and operation\n",
    "   Operand 1    Operand 2    result\n",
    "   True         True         True\n",
    "   True         False        False\n",
    "   False        True         False\n",
    "   False        False        True\n",
    "   \n",
    "   or operation\n",
    "   Operand 1    Operand 2    result\n",
    "   True         True         True\n",
    "   True         False        True\n",
    "   False        True         True\n",
    "   False        False        True\n",
    "   \n",
    "   not operation\n",
    "   Operand    Result\n",
    "   True       False\n",
    "   False      True"
   ]
  },
  {
   "cell_type": "code",
   "execution_count": null,
   "id": "396fb933-dae1-46bc-a77d-28b9d284ebff",
   "metadata": {},
   "outputs": [],
   "source": [
    "4. What are the values of the following expressions?\n",
    "   (5 > 4) and (3 == 5)                -> False\n",
    "   not (5 > 4)                         -> False\n",
    "   (5 > 4) or (3 == 5)                 -> True\n",
    "   not ((5 > 4) or (3 == 5))           -> False\n",
    "   (True and True) and (True == False) -> False\n",
    "   (not False) or (not True)           -> True"
   ]
  },
  {
   "cell_type": "code",
   "execution_count": null,
   "id": "e9aad7a1-27dc-46f7-ba77-8bba3f7974db",
   "metadata": {},
   "outputs": [],
   "source": [
    "5. What are the six comparison operators?\n",
    "-> Equal to (==): Checks if two values are equal.\n",
    "   Not equal to (!=): Checks if two values are not equal.\n",
    "   Greater than (>): Checks if the left value is greater than the right value.\n",
    "   Less than (<): Checks if the left value is less than the right value.\n",
    "   Greater than or equal to (>=): Checks if the left value is greater than or equal to the right value.\n",
    "   Less than or equal to (<=): Checks if the left value is less than or equal to the right value."
   ]
  },
  {
   "cell_type": "code",
   "execution_count": null,
   "id": "f37bdb2f-25e5-486d-9128-6d2cc42d5bd0",
   "metadata": {},
   "outputs": [],
   "source": [
    "6. How do you tell the difference between the equal to and assignment operators? Describe a condition and when you would use one.\n",
    "-> The equal to (==) operator is used for comparison to check if two values are equal.\n",
    "   The assignment (=) operator is used to assign a value to a variable.\n",
    "   \n",
    "   For example:\n",
    "   x = 5   # Assignment: Assigns the value 5 to the variable x\n",
    "   y = 10  # Assignment: Assigns the value 10 to the variable y\n",
    "   result = x == y  # Comparison: Checks if x is equal to y and assigns the result to the variable result\n",
    "   \n",
    "   In this example, the assignment operator is used to assign values to variables x and y, and the equal to operator is used to compare the values of    x and y and store the comparison result in the variable result.\n",
    "\n",
    "   So, the key difference is that the assignment operator is used to give a variable a value, while the equal to operator is used to compare values.\n"
   ]
  },
  {
   "cell_type": "code",
   "execution_count": null,
   "id": "7e00fa7a-9e7b-416a-ba12-f4224ea1537b",
   "metadata": {},
   "outputs": [],
   "source": [
    "7. Identify the three blocks in this code:\n",
    "   spam = 0\n",
    "   if spam == 10:\n",
    "   print('eggs')\n",
    "   if spam > 5:\n",
    "   print('bacon')\n",
    "   else:\n",
    "   print('ham')\n",
    "   print('spam')\n",
    "   print('spam')\n",
    "   \n",
    "-> Block 1\n",
    "   if spam == 10:\n",
    "    print('eggs')\n",
    "   \n",
    "   Block 2\n",
    "   if spam > 5:\n",
    "    print('bacon')\n",
    "\n",
    "   Block 3\n",
    "   else:\n",
    "    print('ham')\n",
    "    print('spam')\n",
    "    print('spam')\n"
   ]
  },
  {
   "cell_type": "code",
   "execution_count": 2,
   "id": "d09c9596-1ef6-4e74-a667-abc6b616e918",
   "metadata": {},
   "outputs": [
    {
     "name": "stdin",
     "output_type": "stream",
     "text": [
      "Enter a value for spam:  2\n"
     ]
    },
    {
     "name": "stdout",
     "output_type": "stream",
     "text": [
      "Howdy\n"
     ]
    }
   ],
   "source": [
    "# 8. Write code that prints Hello if 1 is stored in spam, prints Howdy if 2 is stored in spam, and prints Greetings! if anything else is stored in spam.\n",
    "spam = int(input(\"Enter a value for spam: \"))\n",
    "if spam == 1:\n",
    "    print(\"Hello\")\n",
    "elif spam == 2:\n",
    "    print(\"Howdy\")\n",
    "else:\n",
    "    print(\"Greetings!\")\n"
   ]
  },
  {
   "cell_type": "code",
   "execution_count": null,
   "id": "c5f9770d-34f8-42cc-9a88-5f7ca9441796",
   "metadata": {},
   "outputs": [],
   "source": [
    "9.If your programme is stuck in an endless loop, what keys you’ll press?\n",
    "-> Pressing Ctrl + C in the terminal or command prompt where the program is running will send an interrupt signal to the program and terminate its        execution."
   ]
  },
  {
   "cell_type": "code",
   "execution_count": null,
   "id": "9f2ba977-5d5a-4174-854f-d7abb458f897",
   "metadata": {},
   "outputs": [],
   "source": [
    "10. How can you tell the difference between break and continue?\n",
    "-> break is used to immediately exit the current loop, stopping its further execution, and the program continues with the next statement after the        loop.\n",
    "   continue is used to skip the rest of the current iteration of a loop and proceed with the next iteration, if any."
   ]
  },
  {
   "cell_type": "code",
   "execution_count": null,
   "id": "4af1c517-049b-4ce4-910c-3adb8ce52f4e",
   "metadata": {},
   "outputs": [],
   "source": [
    "11. In a for loop, what is the difference between range(10), range(0, 10), and range(0, 10, 1)?\n",
    "-> range(10):\n",
    "   This generates a sequence of numbers starting from 0 (inclusive) up to 10 (exclusive), with a default step of 1. So, it produces the numbers 0, 1,    2, 3, 4, 5, 6, 7, 8, and 9.\n",
    "\n",
    "   range(0, 10):\n",
    "   This also generates a sequence of numbers starting from 0 (inclusive) up to 10 (exclusive), just like the first case. The 0 before the comma is the    starting point (inclusive), and 10 after the comma is the ending point (exclusive).\n",
    "\n",
    "   range(0, 10, 1):\n",
    "   This is similar to the second case, where it generates numbers from 0 to 10 (exclusive). The 1 after the second comma is the step size, indicating    that the sequence should increment by 1 at each step. However, since the default step size is 1, specifying 1 here doesn't make a difference in        this particular case."
   ]
  },
  {
   "cell_type": "code",
   "execution_count": 3,
   "id": "b8adf47a-e700-4808-b1cf-e7fbf2382107",
   "metadata": {},
   "outputs": [
    {
     "name": "stdout",
     "output_type": "stream",
     "text": [
      "1\n",
      "2\n",
      "3\n",
      "4\n",
      "5\n",
      "6\n",
      "7\n",
      "8\n",
      "9\n",
      "10\n",
      "1\n",
      "2\n",
      "3\n",
      "4\n",
      "5\n",
      "6\n",
      "7\n",
      "8\n",
      "9\n",
      "10\n"
     ]
    }
   ],
   "source": [
    "# 12. Write a short program that prints the numbers 1 to 10 using a for loop. Then write an equivalent \n",
    "# program that prints the numbers 1 to 10 using a while loop.\n",
    "for number in range(1, 11):\n",
    "    print(number)\n",
    "\n",
    "number = 1\n",
    "while number <= 10:\n",
    "    print(number)\n",
    "    number += 1\n"
   ]
  },
  {
   "cell_type": "code",
   "execution_count": null,
   "id": "1b65104e-c266-4792-a37c-7e3706c8e214",
   "metadata": {},
   "outputs": [],
   "source": [
    "13. If you had a function named bacon() inside a module named spam, how would you call it after importing spam?\n",
    "-> The function call with the module name to indicate that the function belongs to the \"spam\" module."
   ]
  }
 ],
 "metadata": {
  "kernelspec": {
   "display_name": "Python 3 (ipykernel)",
   "language": "python",
   "name": "python3"
  },
  "language_info": {
   "codemirror_mode": {
    "name": "ipython",
    "version": 3
   },
   "file_extension": ".py",
   "mimetype": "text/x-python",
   "name": "python",
   "nbconvert_exporter": "python",
   "pygments_lexer": "ipython3",
   "version": "3.10.6"
  }
 },
 "nbformat": 4,
 "nbformat_minor": 5
}
