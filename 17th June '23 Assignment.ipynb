{
 "cells": [
  {
   "cell_type": "markdown",
   "id": "069104c5-ff4c-4dae-a90c-c4fafdfdc937",
   "metadata": {},
   "source": [
    "Q1. What is the role of try and exception block?\n",
    "* The role of a try and exception block is to handle and manage exceptions or errors that might occur during the execution of a program, allowing for graceful error handling and preventing abrupt program termination."
   ]
  },
  {
   "cell_type": "markdown",
   "id": "b74012f7-cdc2-45ea-a968-aa928d53c2ac",
   "metadata": {},
   "source": []
  },
  {
   "cell_type": "markdown",
   "id": "ed913fb1-0681-431a-8cc1-07feba685f92",
   "metadata": {},
   "source": [
    "Q2. What is the syntax for a basic try-except block?"
   ]
  },
  {
   "cell_type": "code",
   "execution_count": null,
   "id": "2cdd245e-6b84-48b9-b28b-f89bb5c68ca7",
   "metadata": {},
   "outputs": [],
   "source": [
    "try:\n",
    "    # Code that might raise an exception\n",
    "    \n",
    "except ExceptionType:\n",
    "    # Code to handle the exception\n"
   ]
  },
  {
   "cell_type": "markdown",
   "id": "cd0d3b80-85fc-4461-8480-b0fe63fd46d1",
   "metadata": {},
   "source": []
  },
  {
   "cell_type": "markdown",
   "id": "55040738-ed82-486b-8731-7b87060c46a7",
   "metadata": {},
   "source": [
    "Q3. What happens if an exception occurs inside a try block and there is no matching except block?\n",
    "* The program execution will be halted, and an unhandled exception error will be raised. This can lead to the termination of the program and the display of an error message indicating the details of the unhandled exception."
   ]
  },
  {
   "cell_type": "markdown",
   "id": "9bf5d6cd-2644-4d7f-a844-7d26f7504019",
   "metadata": {},
   "source": []
  },
  {
   "cell_type": "markdown",
   "id": "3200db3c-2a6e-4130-bb92-b4c967029269",
   "metadata": {},
   "source": [
    "Q4. What is the difference between using a bare except block and specifying a specific exception type?\n",
    "1. Bare Except Block:\n",
    "    * A bare except block catches all types of exceptions, including system-level exceptions like Ctrl+C interruptions.\n",
    "    * It can make it difficult to diagnose specific issues since you're not differentiating between different types of exceptions.\n",
    "    * It's generally considered a bad practice because it can hide bugs and make debugging more challenging.\n",
    "\n",
    "\n",
    "2. Specific Exception Type:\n",
    "    * Specifying a specific exception type in an except block allows you to catch and handle only that particular type of exception.\n",
    "    * This approach provides more targeted and meaningful error handling.\n",
    "    * It promotes better code understanding, as you explicitly state which exceptions you are prepared to handle."
   ]
  },
  {
   "cell_type": "markdown",
   "id": "50bbeb2e-8707-49ab-b5f5-82b8eb5c4636",
   "metadata": {},
   "source": []
  },
  {
   "cell_type": "markdown",
   "id": "3edff29d-88ed-4f1b-8be3-b06002af33f4",
   "metadata": {},
   "source": [
    "Q5. Can you have nested try-except blocks in Python? If yes, then give an example.\n",
    "* Yes, can have nested try-except blocks in Python."
   ]
  },
  {
   "cell_type": "code",
   "execution_count": 2,
   "id": "57795482-88d6-486b-86b3-1c208a09ca99",
   "metadata": {},
   "outputs": [
    {
     "name": "stdin",
     "output_type": "stream",
     "text": [
      "Enter a number:  0\n"
     ]
    },
    {
     "name": "stdout",
     "output_type": "stream",
     "text": [
      "Error: Cannot divide by zero\n"
     ]
    }
   ],
   "source": [
    "try:\n",
    "    # Outer try block\n",
    "    num = int(input(\"Enter a number: \"))\n",
    "    \n",
    "    try:\n",
    "        # Inner try block\n",
    "        result = 10 / num\n",
    "        print(\"Result:\", result)\n",
    "        \n",
    "    except ZeroDivisionError:\n",
    "        print(\"Error: Cannot divide by zero\")\n",
    "        \n",
    "except ValueError:\n",
    "    print(\"Error: Invalid input, please enter a valid number\")\n"
   ]
  },
  {
   "cell_type": "markdown",
   "id": "e30fc8e9-8e61-43eb-9627-8d8c14b9d97c",
   "metadata": {},
   "source": []
  },
  {
   "cell_type": "markdown",
   "id": "5545bc4c-66e6-42c0-907c-ff30a02b1ed4",
   "metadata": {},
   "source": [
    "Q6. Can we use multiple exception blocks, if yes then give an example.\n",
    "* Yes, you can use multiple except blocks to handle different types of exceptions"
   ]
  },
  {
   "cell_type": "code",
   "execution_count": 4,
   "id": "1156657e-68fd-43bc-abed-b214ff0e6ab2",
   "metadata": {},
   "outputs": [
    {
     "name": "stdin",
     "output_type": "stream",
     "text": [
      "Enter a number:  k\n"
     ]
    },
    {
     "name": "stdout",
     "output_type": "stream",
     "text": [
      "Error: Invalid input, please enter a valid number\n"
     ]
    }
   ],
   "source": [
    "try:\n",
    "    num = int(input(\"Enter a number: \"))\n",
    "    result = 10 / num\n",
    "    print(\"Result:\", result)\n",
    "    \n",
    "except ValueError:\n",
    "    print(\"Error: Invalid input, please enter a valid number\")\n",
    "    \n",
    "except ZeroDivisionError:\n",
    "    print(\"Error: Cannot divide by zero\")"
   ]
  },
  {
   "cell_type": "markdown",
   "id": "b9abcae0-2138-4f86-a1ca-b403d8acf149",
   "metadata": {},
   "source": []
  },
  {
   "cell_type": "markdown",
   "id": "17420288-e040-4d62-9934-8c1ecae534bd",
   "metadata": {},
   "source": [
    "Q7. Write the reason due to which following errors are raised:\n",
    "1. EOFError -> Raised when there's an attempt to read beyond the end of a file.\n",
    "2. FloatingPointError -> Raised when a floating-point operation produces an exceptional result.\n",
    "3. IndexError -> Raised when an index is not found in a sequence (list, tuple, string) or is out of range.\n",
    "4. MemoryError -> Raised when a program runs out of memory (RAM) to allocate for new objects or variables.\n",
    "5. OverflowError -> Raised when a numerical operation exceeds the limits of the data type, causing an overflow.\n",
    "6. TabError -> Raised when inconsistent use of tabs and spaces for indentation is detected in the code.\n",
    "7. ValueError -> Raised when a function receives an argument of the correct type but with an inappropriate value, or when an operation doesn't make sense for the given arguments."
   ]
  },
  {
   "cell_type": "markdown",
   "id": "3eb0eb97-deec-4b4a-b9d7-ff8aa42ec6c3",
   "metadata": {},
   "source": []
  },
  {
   "cell_type": "markdown",
   "id": "4ec744dd-5d85-4d4a-ac7c-4fb57f978e29",
   "metadata": {},
   "source": [
    "Q8. Write code for the following given scenario and add try-exception block to it."
   ]
  },
  {
   "cell_type": "code",
   "execution_count": 5,
   "id": "0e45f123-3294-4186-9e8c-6bd9ac62e103",
   "metadata": {},
   "outputs": [
    {
     "name": "stdin",
     "output_type": "stream",
     "text": [
      "Enter the numerator:  8\n",
      "Enter the denominator:  0\n"
     ]
    },
    {
     "name": "stdout",
     "output_type": "stream",
     "text": [
      "Error: Division by zero is not allowed\n"
     ]
    }
   ],
   "source": [
    "# a. Program to divide two numbers\n",
    "try:\n",
    "    numerator = float(input(\"Enter the numerator: \"))\n",
    "    denominator = float(input(\"Enter the denominator: \"))\n",
    "    result = numerator / denominator\n",
    "    print(\"Result:\", result)\n",
    "    \n",
    "except ZeroDivisionError:\n",
    "    print(\"Error: Division by zero is not allowed\")"
   ]
  },
  {
   "cell_type": "code",
   "execution_count": 7,
   "id": "cf0cab35-a336-42e0-b7f2-b67f4f9a71f2",
   "metadata": {},
   "outputs": [
    {
     "name": "stdin",
     "output_type": "stream",
     "text": [
      "Enter a number as a string:  6\n"
     ]
    },
    {
     "name": "stdout",
     "output_type": "stream",
     "text": [
      "Successfully converted string to integer: 6\n"
     ]
    }
   ],
   "source": [
    "# b. Program to convert a string to an integer\n",
    "try:\n",
    "    input_string = input(\"Enter a number as a string: \")\n",
    "    integer_value = int(input_string)\n",
    "    print(\"Successfully converted string to integer:\", integer_value)\n",
    "except ValueError:\n",
    "    print(\"Error: Invalid input. The input string is not a valid integer.\")"
   ]
  },
  {
   "cell_type": "code",
   "execution_count": 10,
   "id": "c0542412-d3c3-4461-8e46-6501377ca3e1",
   "metadata": {},
   "outputs": [
    {
     "name": "stdout",
     "output_type": "stream",
     "text": [
      "Error: Index out of range. Please provide a valid index.\n"
     ]
    }
   ],
   "source": [
    "# c. Program to access an element in a list\n",
    "try:\n",
    "    my_list = [10, 20, 30, 40, 50]\n",
    "    index_to_access = 9\n",
    "    accessed = my_list[index_to_access]\n",
    "    print(\"Accessed element:\", accessed)\n",
    "\n",
    "except IndexError:\n",
    "    print(\"Error: Index out of range. Please provide a valid index.\")"
   ]
  },
  {
   "cell_type": "code",
   "execution_count": 12,
   "id": "121ba786-c2f5-4ded-a98d-3a946f06c1e6",
   "metadata": {},
   "outputs": [
    {
     "name": "stdin",
     "output_type": "stream",
     "text": [
      "Enter a positive number:  -7\n"
     ]
    },
    {
     "name": "stdout",
     "output_type": "stream",
     "text": [
      "Error: Input must be a positive number\n"
     ]
    }
   ],
   "source": [
    "# d. Program to handle a specific exception\n",
    "import math\n",
    "\n",
    "try:\n",
    "    num = float(input(\"Enter a positive number: \"))\n",
    "    if num < 0:\n",
    "        raise ValueError(\"Input must be a positive number\")\n",
    "    result = math.sqrt(num)\n",
    "    print(\"Square root of\", num, \"is\", result)\n",
    "    \n",
    "except ValueError as e:\n",
    "    print(\"Error:\", e)\n"
   ]
  },
  {
   "cell_type": "code",
   "execution_count": 13,
   "id": "cc373512-81b5-497d-88e9-9d7ec2f6e18d",
   "metadata": {},
   "outputs": [
    {
     "name": "stdin",
     "output_type": "stream",
     "text": [
      "Enter a number:  0\n"
     ]
    },
    {
     "name": "stdout",
     "output_type": "stream",
     "text": [
      "An error occurred: division by zero\n"
     ]
    }
   ],
   "source": [
    "# e. Program to handle any exception\n",
    "try:\n",
    "    num = int(input(\"Enter a number: \"))\n",
    "    result = 10 / num\n",
    "    print(\"Result:\", result)\n",
    "    \n",
    "except Exception as e:\n",
    "    print(\"An error occurred:\", e)\n"
   ]
  },
  {
   "cell_type": "code",
   "execution_count": null,
   "id": "241c8d9f-a872-4d4b-b326-a4c3504bbb5f",
   "metadata": {},
   "outputs": [],
   "source": []
  }
 ],
 "metadata": {
  "kernelspec": {
   "display_name": "Python 3 (ipykernel)",
   "language": "python",
   "name": "python3"
  },
  "language_info": {
   "codemirror_mode": {
    "name": "ipython",
    "version": 3
   },
   "file_extension": ".py",
   "mimetype": "text/x-python",
   "name": "python",
   "nbconvert_exporter": "python",
   "pygments_lexer": "ipython3",
   "version": "3.10.6"
  }
 },
 "nbformat": 4,
 "nbformat_minor": 5
}
