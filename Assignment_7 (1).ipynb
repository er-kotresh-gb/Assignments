{
 "cells": [
  {
   "cell_type": "markdown",
   "id": "ef204671-0173-43ee-ae03-0a803d5a38d1",
   "metadata": {},
   "source": [
    "Q.1. Create two int type variables, apply addition, subtraction, division and multiplications and store the results in variables. Then print the data in the following format by calling the variables:\n",
    "\n",
    "* First variable is __ & second variable is __.\n",
    "* Addition: __ + __ = __\n",
    "* Subtraction: __ - __ = __\n",
    "* Multiplication: __ * __ = __\n",
    "* Division: __ / __ = __"
   ]
  },
  {
   "cell_type": "code",
   "execution_count": 2,
   "id": "2f5767dd-9ceb-4453-8d09-4f3f9e6e52a6",
   "metadata": {},
   "outputs": [
    {
     "name": "stdin",
     "output_type": "stream",
     "text": [
      "Enter first value:  20\n",
      "Enter second value:  5\n"
     ]
    },
    {
     "name": "stdout",
     "output_type": "stream",
     "text": [
      "First variable is 20 & second variable is 5.\n",
      "Addition: 20 + 5 = 25\n",
      "Subtraction: 20 - 5 = 15\n",
      "Mulitiplication: 20 * 5 = 100\n",
      "Division: 20 / 5 = 4.0\n"
     ]
    }
   ],
   "source": [
    "num1 = int(input(\"Enter first value: \"))\n",
    "num2 = int(input(\"Enter second value: \"))\n",
    "A\n",
    "print(f\"First variable is {num1} & second variable is {num2}.\")\n",
    "print(f\"Addition: {num1} + {num2} = {num1+num2}\")\n",
    "print(f\"Subtraction: {num1} - {num2} = {num1-num2}\")\n",
    "print(f\"Mulitiplication: {num1} * {num2} = {num1*num2}\")\n",
    "print(f\"Division: {num1} / {num2} = {num1/num2}\")"
   ]
  },
  {
   "cell_type": "markdown",
   "id": "36d08a61-3380-49e8-98fd-a086fbeb3060",
   "metadata": {},
   "source": []
  },
  {
   "cell_type": "markdown",
   "id": "637b50a6-8ab5-4aa7-a8c2-3beeb9f232d2",
   "metadata": {},
   "source": [
    "Q.2. What is the difference between the following operators:\n",
    "* '/' & '//' -> '/' is the division operator that performs regular division, while '//' is the floor division operator that performs division and rounds down to the nearest integer.\n",
    "\n",
    "* ** & '^' -> '**' is the exponentiation operator used to raise a number to a power, while '^' is the bitwise XOR operator used for performing bitwise exclusive OR operation on integers."
   ]
  },
  {
   "cell_type": "markdown",
   "id": "d09d6664-2ec0-4012-a3e0-a602a267fe76",
   "metadata": {},
   "source": []
  },
  {
   "cell_type": "markdown",
   "id": "b04c2816-c817-4946-914c-01d89262e167",
   "metadata": {},
   "source": [
    "Q.3. List the logical operators.\n",
    "* and - Returns True if both operands are True.\n",
    "* or - Returns True if at least one operand is True.\n",
    "* not - Returns the opposite boolean value of the operand."
   ]
  },
  {
   "cell_type": "markdown",
   "id": "da670816-21b7-4a68-8454-d3b579be4edf",
   "metadata": {},
   "source": []
  },
  {
   "cell_type": "markdown",
   "id": "32397b8e-8f03-4f1b-b81a-9336f73e2b39",
   "metadata": {},
   "source": [
    "Q.4. Explain right shift operator and left shift operator with examples.\n",
    "* Right Shift (>>): \n",
    "  The right shift operator shifts the bits of a number to the right by a specified number of positions. The rightmost bits are discarded, and the leftmost positions are filled with the sign bit. It's equivalent to integer division by powers of 2."
   ]
  },
  {
   "cell_type": "code",
   "execution_count": 3,
   "id": "7500d6e5-1d8e-4a86-a11c-b45be13d690c",
   "metadata": {},
   "outputs": [
    {
     "name": "stdout",
     "output_type": "stream",
     "text": [
      "5\n"
     ]
    }
   ],
   "source": [
    "x = 10\n",
    "result = x >> 1\n",
    "print(result)"
   ]
  },
  {
   "cell_type": "markdown",
   "id": "44deaade-3116-4501-8be8-8da6c5d72a38",
   "metadata": {},
   "source": [
    "* Left Shift (<<):\n",
    "  The left shift operator shifts the bits of a number to the left by a specified number of positions. Zeros are filled in from the right, and the bits that shift beyond the leftmost position are discarded. It's equivalent to multiplication by powers of 2."
   ]
  },
  {
   "cell_type": "code",
   "execution_count": 4,
   "id": "ed9e0e43-c3bc-4154-8d2d-089c1b0ba1ea",
   "metadata": {},
   "outputs": [
    {
     "name": "stdout",
     "output_type": "stream",
     "text": [
      "20\n"
     ]
    }
   ],
   "source": [
    "y = 5\n",
    "result = y << 2\n",
    "print(result)"
   ]
  },
  {
   "cell_type": "markdown",
   "id": "5a32c08a-99e2-4c3f-8ec6-c1cc5d8feefd",
   "metadata": {},
   "source": []
  },
  {
   "cell_type": "markdown",
   "id": "fa1d6afa-b9b7-4d80-8ebd-8dff113d4e5b",
   "metadata": {},
   "source": [
    "Q.5. Create a list containing int type data of length 15. Then write a code to check if 10 is present in the list or not."
   ]
  },
  {
   "cell_type": "code",
   "execution_count": 5,
   "id": "b6df1bb8-b346-4692-9e5f-2752ca975135",
   "metadata": {},
   "outputs": [
    {
     "name": "stdout",
     "output_type": "stream",
     "text": [
      "10 is present in the list.\n"
     ]
    }
   ],
   "source": [
    "my_list = [5, 8, 10, 15, 20, 25, 30, 35, 40, 45, 50, 55, 60, 65, 70]\n",
    "\n",
    "if 10 in my_list:\n",
    "    print(\"10 is present in the list.\")\n",
    "else:\n",
    "    print(\"10 is not present in the list.\")"
   ]
  },
  {
   "cell_type": "code",
   "execution_count": null,
   "id": "f84f13c5-070c-42b3-886a-6069afbc40ed",
   "metadata": {},
   "outputs": [],
   "source": []
  }
 ],
 "metadata": {
  "kernelspec": {
   "display_name": "Python 3 (ipykernel)",
   "language": "python",
   "name": "python3"
  },
  "language_info": {
   "codemirror_mode": {
    "name": "ipython",
    "version": 3
   },
   "file_extension": ".py",
   "mimetype": "text/x-python",
   "name": "python",
   "nbconvert_exporter": "python",
   "pygments_lexer": "ipython3",
   "version": "3.10.6"
  }
 },
 "nbformat": 4,
 "nbformat_minor": 5
}
