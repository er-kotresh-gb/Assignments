{
 "cells": [
  {
   "cell_type": "code",
   "execution_count": null,
   "id": "77ae0ddd-6b6a-4d00-9c39-3e1d0c524eba",
   "metadata": {},
   "outputs": [],
   "source": [
    "'''\n",
    "1. Why are functions advantageous to have in your programs?\n",
    "-> Functions are advantageous in programs because they promote code reusability, modularity, and organization.\n",
    "   They allow you to encapsulate a specific task or logic into a reusable unit, making code more manageable.\n",
    "'''"
   ]
  },
  {
   "cell_type": "code",
   "execution_count": null,
   "id": "5c2230cb-bbea-498c-9123-8d58095a600a",
   "metadata": {},
   "outputs": [],
   "source": [
    "'''\n",
    "2. When does the code in a function run: when it's specified or when it's called?\n",
    "-> The code in a function runs when the function is called, not when it is specified.\n",
    "   Functions act as reusable blocks of code that are executed only when they are explicitly invoked in the program flow.\n",
    "'''"
   ]
  },
  {
   "cell_type": "code",
   "execution_count": null,
   "id": "3fb1a38a-6e23-45cc-9ae2-c43abf191b6b",
   "metadata": {},
   "outputs": [],
   "source": [
    "'''\n",
    "3. What statement creates a function?\n",
    "-> def\n",
    "'''"
   ]
  },
  {
   "cell_type": "code",
   "execution_count": null,
   "id": "8ec26e47-3503-4039-9700-17a628828914",
   "metadata": {},
   "outputs": [],
   "source": [
    "'''\n",
    "4. What is the difference between a function and a function call?\n",
    "-> A function is a named block of code that performs a specific task, while a function call is the act of invoking\n",
    "   or executing that function to perform its task. In other words, a function defines the logic, and a function call triggers the execution\n",
    "   of that logic.\n",
    "'''"
   ]
  },
  {
   "cell_type": "code",
   "execution_count": null,
   "id": "fed88b1a-f673-4ac9-8139-e3fbec00657a",
   "metadata": {},
   "outputs": [],
   "source": [
    "'''\n",
    "5. How many global scopes are there in a Python program? How many local scopes?\n",
    "-> A Python program has one global scope, and each function call creates its own local scope. ( local scopes can be multiple)\n",
    "'''"
   ]
  },
  {
   "cell_type": "code",
   "execution_count": null,
   "id": "43ee2c16-f9ac-4cf9-a09f-45acfd8e0f2f",
   "metadata": {},
   "outputs": [],
   "source": [
    "'''\n",
    "6. What happens to variables in a local scope when the function call returns?\n",
    "-> They are no longer accessible or valid outside of that function. The memory allocated for these local variables is released,\n",
    "   and their values are lost unless they were returned from the function or used to modify global variables.\n",
    "'''"
   ]
  },
  {
   "cell_type": "code",
   "execution_count": null,
   "id": "c10e960a-096f-4369-bc49-d3a54c7b26c4",
   "metadata": {},
   "outputs": [],
   "source": [
    "'''\n",
    "7. What is the concept of a return value? Is it possible to have a return value in an expression?\n",
    "-> The concept of a return value refers to the value that a function sends back to the caller. \n",
    "   Yes, it's possible to have a return value from a function used directly in an expression.\n",
    "'''"
   ]
  },
  {
   "cell_type": "code",
   "execution_count": null,
   "id": "8c0c0baa-57ff-4c1a-90d7-906e5397b24b",
   "metadata": {},
   "outputs": [],
   "source": [
    "'''\n",
    "8. If a function does not have a return statement, what is the return value of a call to that function?\n",
    "-> The return value of a call to that function is 'None'.\n",
    "'''"
   ]
  },
  {
   "cell_type": "code",
   "execution_count": null,
   "id": "5cc03a43-e2b0-46f1-b3bb-184847747768",
   "metadata": {},
   "outputs": [],
   "source": [
    "'''\n",
    "9. How do you make a function variable refer to the global variable?\n",
    "-> By using the 'global' keyword before the variable name inside the function.\n",
    "'''"
   ]
  },
  {
   "cell_type": "code",
   "execution_count": null,
   "id": "136503c7-69bf-4881-9ae3-943314106ed7",
   "metadata": {},
   "outputs": [],
   "source": [
    "'''\n",
    "10. What is the data type of None?\n",
    "-> In Python, the data type of None is called 'NoneType'.\n",
    "'''"
   ]
  },
  {
   "cell_type": "code",
   "execution_count": null,
   "id": "938d9b18-96b2-4373-b789-d37814cf4a32",
   "metadata": {},
   "outputs": [],
   "source": [
    "'''\n",
    "11. What does the sentence import areallyourpetsnamederic do?\n",
    "-> import is used here to import 'areallyourpetsnamederic' package or module\n",
    "'''"
   ]
  },
  {
   "cell_type": "code",
   "execution_count": null,
   "id": "de6c3b20-7d09-4ec6-b0a7-d8b54aa80a40",
   "metadata": {},
   "outputs": [],
   "source": [
    "'''\n",
    "12. If you had a bacon() feature in a spam module, what would you call it after importing spam?\n",
    "-> spam.bacon()\n",
    "'''"
   ]
  },
  {
   "cell_type": "code",
   "execution_count": null,
   "id": "b8caddfc-199d-4f42-9d73-8a9a69d815a4",
   "metadata": {},
   "outputs": [],
   "source": [
    "'''\n",
    "13. What can you do to save a programme from crashing if it encounters an error?\n",
    "-> Use exception handling with 'try' and 'except' blocks to handle errors gracefully and prevent program crashes.\n",
    "'''"
   ]
  },
  {
   "cell_type": "code",
   "execution_count": null,
   "id": "85fa3e75-68be-4a1a-96d8-e2140773864d",
   "metadata": {},
   "outputs": [],
   "source": [
    "'''\n",
    "14. What is the purpose of the try clause? What is the purpose of the except clause?\n",
    "-> The purpose of the 'try' clause in Python is to enclose a block of code that might raise an exception. \n",
    "   The purpose of the 'except' clause is to define the code that should be executed if an exception occurs within the corresponding try block.\n",
    "'''"
   ]
  }
 ],
 "metadata": {
  "kernelspec": {
   "display_name": "Python 3 (ipykernel)",
   "language": "python",
   "name": "python3"
  },
  "language_info": {
   "codemirror_mode": {
    "name": "ipython",
    "version": 3
   },
   "file_extension": ".py",
   "mimetype": "text/x-python",
   "name": "python",
   "nbconvert_exporter": "python",
   "pygments_lexer": "ipython3",
   "version": "3.10.6"
  }
 },
 "nbformat": 4,
 "nbformat_minor": 5
}
