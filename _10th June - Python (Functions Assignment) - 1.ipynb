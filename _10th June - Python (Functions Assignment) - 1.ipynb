{
 "cells": [
  {
   "cell_type": "markdown",
   "id": "64aea740-a6c3-410f-af4b-47de8bff5c1c",
   "metadata": {},
   "source": [
    "Q1. In Python, what is the difference between a built-in function and a user-defined function? Provide an example of each.\n",
    "* A built-in function in Python is a function that is provided by the Python interpreter itself and is readily available for use without requiring any additional import or definition."
   ]
  },
  {
   "cell_type": "code",
   "execution_count": 1,
   "id": "6a74642c-172d-4781-bc4a-beb9cc94424f",
   "metadata": {},
   "outputs": [
    {
     "name": "stdout",
     "output_type": "stream",
     "text": [
      "13\n"
     ]
    }
   ],
   "source": [
    "# Built-in function: len()\n",
    "string_length = len(\"Hello, World!\")\n",
    "print(string_length)"
   ]
  },
  {
   "cell_type": "markdown",
   "id": "bcf1b442-9d66-4326-af99-4d1964781738",
   "metadata": {},
   "source": [
    " * A user-defined function, on the other hand, is a function created by the programmer to perform a specific task as needed."
   ]
  },
  {
   "cell_type": "code",
   "execution_count": 2,
   "id": "bcff8b70-f3e4-4568-a7b7-9fae61d05143",
   "metadata": {},
   "outputs": [
    {
     "name": "stdout",
     "output_type": "stream",
     "text": [
      "25\n"
     ]
    }
   ],
   "source": [
    "# User-defined function: calculate_square()\n",
    "def calculate_square(x):\n",
    "    return x * x\n",
    "\n",
    "result = calculate_square(5)\n",
    "print(result)"
   ]
  },
  {
   "cell_type": "markdown",
   "id": "f8faad1e-8f9e-404f-888f-1e2f759dd699",
   "metadata": {},
   "source": []
  },
  {
   "cell_type": "markdown",
   "id": "d4a33a7f-987f-43cf-aa2d-3f5bddc12209",
   "metadata": {},
   "source": [
    "Q2. How can you pass arguments to a function in Python? Explain the difference between positional arguments and keyword arguments.\n",
    "* In Python, you can pass arguments to a function by including them within the parentheses when calling the function.\n",
    "* Positional Arguments: These are arguments that are passed based on their position in the function call. The order of the arguments matters, and they are assigned to the function parameters in the order they are provided."
   ]
  },
  {
   "cell_type": "code",
   "execution_count": 3,
   "id": "645379d0-a1af-4000-b22e-0b6ad2af29b8",
   "metadata": {},
   "outputs": [
    {
     "name": "stdout",
     "output_type": "stream",
     "text": [
      "Hello, Kotresh! You are 23 years old.\n"
     ]
    }
   ],
   "source": [
    "def greet(name, age):\n",
    "    print(f\"Hello, {name}! You are {age} years old.\")\n",
    "\n",
    "greet(\"Kotresh\", 23)"
   ]
  },
  {
   "cell_type": "markdown",
   "id": "93a8020e-873d-41d9-8847-dcb9b1fb5b14",
   "metadata": {},
   "source": [
    "* Keyword Arguments: These are arguments that are passed with the parameter names explicitly mentioned. This way, the order of the arguments doesn't matter, and you can even omit certain arguments if you provide default values in the function definition."
   ]
  },
  {
   "cell_type": "code",
   "execution_count": 4,
   "id": "d36f75b8-1d4e-432e-abc2-123ddfa34a25",
   "metadata": {},
   "outputs": [
    {
     "name": "stdout",
     "output_type": "stream",
     "text": [
      "Hello, Kotresh! You are 23 years old.\n"
     ]
    }
   ],
   "source": [
    "def greet(name, age):\n",
    "    print(f\"Hello, {name}! You are {age} years old.\")\n",
    "\n",
    "greet(age=23, name=\"Kotresh\")"
   ]
  },
  {
   "cell_type": "markdown",
   "id": "3e4ffd7e-dca2-4c8d-9c1c-c03aa709181e",
   "metadata": {},
   "source": []
  },
  {
   "cell_type": "markdown",
   "id": "474d4c78-335f-4a47-bdc4-f2b17c5c40f2",
   "metadata": {},
   "source": [
    "Q3. What is the purpose of the return statement in a function? Can a function have multiple return statements? Explain with an example.\n",
    "* The return statement in a function is used to send a value back to the caller of the function. It serves the purpose of providing the result of the function's computation or processing to the outside code that called the function.\n",
    "* Once a return statement is encountered in a function, the function's execution halts, and the specified value is returned to the caller.\n",
    "* A function can have multiple return statements. However, only one of them will be executed, and the function will exit as soon as that return statement is encountered. This means that any code after the executed return statement will not be reached."
   ]
  },
  {
   "cell_type": "code",
   "execution_count": 5,
   "id": "09280c06-0b2c-4b9a-8a8f-91193af5a555",
   "metadata": {},
   "outputs": [
    {
     "name": "stdout",
     "output_type": "stream",
     "text": [
      "5\n",
      "7\n"
     ]
    }
   ],
   "source": [
    "def absolute_value(x):\n",
    "    if x < 0:\n",
    "        return -x\n",
    "    else:\n",
    "        return x\n",
    "\n",
    "res1 = absolute_value(-5)\n",
    "res2 = absolute_value(7)\n",
    "\n",
    "print(res1)\n",
    "print(res2)"
   ]
  },
  {
   "cell_type": "markdown",
   "id": "fc1cd95e-adfd-48bd-9fbc-01e055734ca9",
   "metadata": {},
   "source": []
  },
  {
   "cell_type": "markdown",
   "id": "8fdbce36-93ba-41a1-b8fe-34c3596f7e15",
   "metadata": {},
   "source": [
    "Q4. What are lambda functions in Python? How are they different from regular functions? Provide an example where a lambda function can be useful.\n",
    "* Lambda functions in Python are small, anonymous functions that can be defined using the lambda keyword. They are often used for simple operations where a full function definition is not necessary.\n",
    "\n",
    "*Differences from regular functions:\n",
    "* Syntax: Lambda functions are defined in a single line, while regular functions use the def keyword and can have multiple lines of code.\n",
    "* Name: Lambda functions are unnamed by default, whereas regular functions have a defined name.\n",
    "* Complexity: Lambda functions are limited to simple expressions, while regular functions can handle more complex tasks."
   ]
  },
  {
   "cell_type": "code",
   "execution_count": 7,
   "id": "3dcf4f06-addf-41a5-964a-55de1b0d1cf3",
   "metadata": {},
   "outputs": [
    {
     "name": "stdout",
     "output_type": "stream",
     "text": [
      "[{'name': 'Shweta', 'age': 20}, {'name': 'Kotresh', 'age': 23}, {'name': 'Ganesh', 'age': 28}]\n"
     ]
    }
   ],
   "source": [
    "# example for lambda function\n",
    "data = [{\"name\": \"Kotresh\", \"age\": 23}, {\"name\": \"Shweta\", \"age\": 20}, {\"name\": \"Ganesh\", \"age\": 28}]\n",
    "sorted_data = sorted(data, key=lambda x: x[\"age\"])\n",
    "print(sorted_data)"
   ]
  },
  {
   "cell_type": "markdown",
   "id": "6554ed83-5e30-4c5d-abe7-2efaafac172a",
   "metadata": {},
   "source": []
  },
  {
   "cell_type": "markdown",
   "id": "db567791-ef97-4b0c-a7f6-310b6382d24c",
   "metadata": {},
   "source": [
    "Q5. How does the concept of \"scope\" apply to functions in Python? Explain the difference between local scope and global scope.\n",
    "* Scope in Python refers to the region in which a variable, function, or object is accessible and can be referenced. It determines where variables and functions can be used, and it helps avoid naming conflicts and provides a clear hierarchy of visibility.\n",
    "* Local Scope: Variables defined within a function are considered to be in the local scope. They are only accessible within the function where they are defined and are not visible outside of that function.\n",
    "* Global Scope: Variables defined outside of any function or at the top level of a script/module are considered to be in the global scope. They are accessible throughout the entire script/module, including within any functions defined within that scope."
   ]
  },
  {
   "cell_type": "code",
   "execution_count": 8,
   "id": "fdaa02bb-e5c9-4b86-889a-e0afe2b612f5",
   "metadata": {},
   "outputs": [
    {
     "name": "stdout",
     "output_type": "stream",
     "text": [
      "5\n",
      "10\n"
     ]
    }
   ],
   "source": [
    "# Example\n",
    "var1 = 10  # Global variable\n",
    "\n",
    "def my_function():\n",
    "    var2 = 5  # Local variable\n",
    "    print(var2)  # Accessible within the function\n",
    "\n",
    "my_function()\n",
    "print(var1)  # Accessible globally"
   ]
  },
  {
   "cell_type": "markdown",
   "id": "9d9ed224-e396-4571-af44-de97ff30c46a",
   "metadata": {},
   "source": []
  },
  {
   "cell_type": "markdown",
   "id": "c83e5e3d-aba0-4b06-821e-a92b04c6ce9a",
   "metadata": {},
   "source": [
    "Q6. How can you use the \"return\" statement in a Python function to return multiple values?\n",
    "* We can use the return statement in a function to return multiple values by packing them into a data structure like a tuple, list, or dictionary."
   ]
  },
  {
   "cell_type": "code",
   "execution_count": 10,
   "id": "7a910984-3cbd-4ae8-9f71-7f8fa1f6822e",
   "metadata": {},
   "outputs": [
    {
     "name": "stdout",
     "output_type": "stream",
     "text": [
      "(10, 'Hello', [1, 2, 3])\n",
      "10\n",
      "Hello\n",
      "[1, 2, 3]\n"
     ]
    }
   ],
   "source": [
    "def multiple_values():\n",
    "    val1 = 10\n",
    "    val2 = \"Hello\"\n",
    "    val3 = [1, 2, 3]\n",
    "    \n",
    "    return val1, val2, val3\n",
    "\n",
    "result_tuple = multiple_values()\n",
    "print(result_tuple)\n",
    "\n",
    "# Unpacking the tuple into individual variables\n",
    "returned_value1, returned_value2, returned_value3 = result_tuple\n",
    "print(returned_value1)\n",
    "print(returned_value2)\n",
    "print(returned_value3)"
   ]
  },
  {
   "cell_type": "markdown",
   "id": "925629b4-b4dd-4984-9632-0363f981f3c7",
   "metadata": {},
   "source": []
  },
  {
   "cell_type": "markdown",
   "id": "ba49870d-0684-49dc-b362-646a6d2ae980",
   "metadata": {},
   "source": [
    "Q7. What is the difference between the \"pass by value\" and \"pass by reference\" concepts when it comes to function arguments in Python?\n",
    "* Pass by Value: In this concept, the function receives a copy of the actual value of the argument. Any changes made to the argument within the function do not affect the original value outside the function.\n",
    "* Pass by Reference: In Python, when a function is called, the function receives a reference to the object, not a copy of the object itself. This means that if the object is mutable, changes made to the object within the function are reflected outside the function as well."
   ]
  },
  {
   "cell_type": "markdown",
   "id": "78684216-defe-4ecd-ad3d-2f78eaa0731c",
   "metadata": {},
   "source": []
  },
  {
   "cell_type": "markdown",
   "id": "943010c2-5cf7-4f6d-a1a0-08f0a6a740fa",
   "metadata": {},
   "source": [
    "Q8. Create a function that can intake integer or decimal value and do following operations:\n",
    "* Logarithmic function (log x)\n",
    "* Exponential function (exp(x))\n",
    "* Power function with base 2 (2^x)\n",
    "* Square root"
   ]
  },
  {
   "cell_type": "code",
   "execution_count": 11,
   "id": "a9bc54f3-894e-4418-b57b-902ce918269b",
   "metadata": {},
   "outputs": [
    {
     "name": "stdin",
     "output_type": "stream",
     "text": [
      "Enter a number:  5\n"
     ]
    },
    {
     "name": "stdout",
     "output_type": "stream",
     "text": [
      "Logarithmic result: 1.6094379124341003\n",
      "Exponential result: 148.4131591025766\n",
      "Power (2^x) result: 32.0\n",
      "Square root result: 2.23606797749979\n"
     ]
    }
   ],
   "source": [
    "import math\n",
    "\n",
    "def math_operations(x):\n",
    "    log_result = math.log(x)\n",
    "    exp_result = math.exp(x)\n",
    "    power_result = math.pow(2, x)\n",
    "    sqrt_result = math.sqrt(x)\n",
    "    return log_result, exp_result, power_result, sqrt_result\n",
    "\n",
    "value = float(input(\"Enter a number: \"))\n",
    "log_result, exp_result, power_result, sqrt_result = math_operations(value)\n",
    "\n",
    "print(f\"Logarithmic result: {log_result}\")\n",
    "print(f\"Exponential result: {exp_result}\")\n",
    "print(f\"Power (2^x) result: {power_result}\")\n",
    "print(f\"Square root result: {sqrt_result}\")"
   ]
  },
  {
   "cell_type": "markdown",
   "id": "45237a33-c3e8-4047-8c68-8262562cffc0",
   "metadata": {},
   "source": []
  },
  {
   "cell_type": "markdown",
   "id": "13c5d528-b849-4048-a909-162d6878fe52",
   "metadata": {},
   "source": [
    "Q9. Create a function that takes a full name as an argument and returns first name and last name."
   ]
  },
  {
   "cell_type": "code",
   "execution_count": 12,
   "id": "11622983-63d9-4047-a68a-eb02597a1538",
   "metadata": {},
   "outputs": [
    {
     "name": "stdin",
     "output_type": "stream",
     "text": [
      "Enter a full name:  Kotresh Bhuti\n"
     ]
    },
    {
     "name": "stdout",
     "output_type": "stream",
     "text": [
      "First Name: Kotresh\n",
      "Last Name: Bhuti\n"
     ]
    }
   ],
   "source": [
    "def extract_names(full_name):\n",
    "    names = full_name.split()\n",
    "    \n",
    "    if len(names) == 1:\n",
    "        first_name = names[0]\n",
    "        last_name = \"\"\n",
    "    else:\n",
    "        first_name = names[0]\n",
    "        last_name = ' '.join(names[1:])\n",
    "    \n",
    "    return first_name, last_name\n",
    "\n",
    "full_name = input(\"Enter a full name: \")\n",
    "first_name, last_name = extract_names(full_name)\n",
    "\n",
    "print(f\"First Name: {first_name}\")\n",
    "print(f\"Last Name: {last_name}\")"
   ]
  },
  {
   "cell_type": "code",
   "execution_count": null,
   "id": "8ce6b026-a82a-47dc-949c-6be486e2662c",
   "metadata": {},
   "outputs": [],
   "source": []
  }
 ],
 "metadata": {
  "kernelspec": {
   "display_name": "Python 3 (ipykernel)",
   "language": "python",
   "name": "python3"
  },
  "language_info": {
   "codemirror_mode": {
    "name": "ipython",
    "version": 3
   },
   "file_extension": ".py",
   "mimetype": "text/x-python",
   "name": "python",
   "nbconvert_exporter": "python",
   "pygments_lexer": "ipython3",
   "version": "3.10.6"
  }
 },
 "nbformat": 4,
 "nbformat_minor": 5
}
