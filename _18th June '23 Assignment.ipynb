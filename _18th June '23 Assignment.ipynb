{
 "cells": [
  {
   "cell_type": "markdown",
   "id": "3d5181b7-b8ca-44ec-91ee-00030e948a97",
   "metadata": {},
   "source": [
    "Q1. What is the role of the 'else' block in a try-except statement? Provide an example scenario where it would be useful.\n",
    "* The 'else' block in a try-except statement is optional and is executed only if no exception is raised in the corresponding 'try' block. It is used to define a block of code that should run when the 'try' block completes successfully without any exceptions."
   ]
  },
  {
   "cell_type": "code",
   "execution_count": 3,
   "id": "7a2bc7bb-8682-4c14-99e7-6d398690dab0",
   "metadata": {},
   "outputs": [
    {
     "name": "stdin",
     "output_type": "stream",
     "text": [
      "Enter a number:  D\n"
     ]
    },
    {
     "name": "stdout",
     "output_type": "stream",
     "text": [
      "Invalid input. Please enter a valid number.\n"
     ]
    }
   ],
   "source": [
    "try:\n",
    "    num = int(input(\"Enter a number: \"))\n",
    "except ValueError:\n",
    "    print(\"Invalid input. Please enter a valid number.\")\n",
    "else:\n",
    "    print(\"You entered:\", num)"
   ]
  },
  {
   "cell_type": "markdown",
   "id": "4ed91bd9-6ac6-4852-9e97-c7527e4fa2c0",
   "metadata": {},
   "source": []
  },
  {
   "cell_type": "markdown",
   "id": "9f585ccc-11a1-423e-85b4-e1adab6532a8",
   "metadata": {},
   "source": [
    "Q2. Can a try-except block be nested inside another try-except block? Explain with an example.\n",
    "* Yes, a try-except block can be nested inside another try-except block. This is useful when you want to handle different levels of exceptions separately."
   ]
  },
  {
   "cell_type": "code",
   "execution_count": 10,
   "id": "c58d2546-fbbe-4cfb-b459-276731019e6b",
   "metadata": {},
   "outputs": [
    {
     "name": "stdin",
     "output_type": "stream",
     "text": [
      "Enter a number:  -1\n"
     ]
    },
    {
     "name": "stdout",
     "output_type": "stream",
     "text": [
      "Square root of the result: (1.9363366072701937e-16+3.1622776601683795j)\n"
     ]
    }
   ],
   "source": [
    "try:\n",
    "    num = int(input(\"Enter a number: \"))\n",
    "    result = 10 / num\n",
    "except ValueError:\n",
    "    print(\"Invalid input. Please enter a valid number.\")\n",
    "except ZeroDivisionError:\n",
    "    print(\"Cannot divide by zero.\")\n",
    "else:\n",
    "    try:\n",
    "        sqrt_result = result ** 0.5\n",
    "    except ValueError:\n",
    "        print(\"Error calculating square root.\")\n",
    "    else:\n",
    "        print(\"Square root of the result:\", sqrt_result)\n"
   ]
  },
  {
   "cell_type": "markdown",
   "id": "07018ecd-de7b-4ac1-88fa-b8456719940f",
   "metadata": {},
   "source": []
  },
  {
   "cell_type": "markdown",
   "id": "05ddd17b-146b-4b4b-bcbf-996f54430f5b",
   "metadata": {},
   "source": [
    "Q3. How can you create a custom exception class in Python? Provide an example that demonstrates its usage.\n",
    "* By defining a new class that inherits from the built-in Exception class or one of its subclasses. This allows to create our own specific exception types to handle unique situations in code."
   ]
  },
  {
   "cell_type": "code",
   "execution_count": 12,
   "id": "55e69905-5c35-45e3-80b9-89d779e80882",
   "metadata": {},
   "outputs": [
    {
     "name": "stdout",
     "output_type": "stream",
     "text": [
      "Custom error caught: Data value cannot be negative.\n"
     ]
    }
   ],
   "source": [
    "class MyError(Exception):\n",
    "    def __init__(self, message):\n",
    "        self.message = message\n",
    "        super().__init__(self.message)\n",
    "\n",
    "def process_data(data):\n",
    "    if data < 0:\n",
    "        raise MyError(\"Data value cannot be negative.\")\n",
    "\n",
    "try:\n",
    "    value = -5\n",
    "    process_data(value)\n",
    "except MyError as e:\n",
    "    print(\"Custom error caught:\", e)\n"
   ]
  },
  {
   "cell_type": "markdown",
   "id": "27055c58-037f-4ad3-a487-26f6f2719124",
   "metadata": {},
   "source": []
  },
  {
   "cell_type": "markdown",
   "id": "9fcdd0ab-c782-45ee-b5ca-79977f21dc21",
   "metadata": {},
   "source": [
    "Q4. What are some common exceptions that are built-in to Python?\n",
    "* SyntaxError: Raised when there's a syntax error in the code.\n",
    "* IndentationError: Raised when there's an issue with the code's indentation.\n",
    "* NameError: Raised when a local or global name is not found.\n",
    "* TypeError: Raised when an operation or function is applied to an object of an inappropriate type.\n",
    "* ValueError: Raised when a function receives an argument of the correct type but with an inappropriate value.\n",
    "* KeyError: Raised when a dictionary is accessed with a key that doesn't exist.\n",
    "* IndexError: Raised when a sequence (e.g., list, string) index is out of range.\n",
    "* FileNotFoundError: Raised when a file is not found during file operations.\n",
    "* IOError: Raised when an I/O operation (e.g., reading/writing a file) fails.\n",
    "* ZeroDivisionError: Raised when division or modulo by zero occurs.\n",
    "* AttributeError: Raised when an attribute reference or assignment fails.\n",
    "* ImportError: Raised when an import statement cannot find the module or name being imported.\n",
    "* RuntimeError: Raised when an error is detected that doesn't fall into other categories.\n",
    "* Exception: The base class for all built-in exceptions."
   ]
  },
  {
   "cell_type": "markdown",
   "id": "39c0cd78-719b-45a6-8d8b-91a52bfc0152",
   "metadata": {},
   "source": []
  },
  {
   "cell_type": "markdown",
   "id": "514c0e7b-6baf-450f-b21a-fb78f530df3f",
   "metadata": {},
   "source": [
    "Q5. What is logging in Python, and why is it important in software development?\n",
    "* Logging in Python is the process of recording events, messages, and information during the execution of a program. It's important in software development for debugging, error tracking, monitoring application behavior, and gaining insights into how a program runs in different environments."
   ]
  },
  {
   "cell_type": "markdown",
   "id": "4cf4de06-cedd-46a3-80f5-1106fe7a04f4",
   "metadata": {},
   "source": []
  },
  {
   "cell_type": "markdown",
   "id": "e4e5cf90-03aa-4a6a-b9ad-67df70742a58",
   "metadata": {},
   "source": [
    "Q6. Explain the purpose of log levels in Python logging and provide examples of when each log level would be appropriate.\n",
    "* Log levels in Python logging provide a way to categorize the importance or severity of log messages. They help developers control the granularity of logged information and allow users to filter out messages based on their severity. \n",
    "    * DEBUG: Used for detailed information useful for debugging. Example: Logging variable values for troubleshooting.\n",
    "    * INFO: Used to convey general information about the program's progress. Example: Logging when a program starts or reaches certain milestones.\n",
    "    * WARNING: Used to indicate potential issues or situations that might cause problems in the future but don't prevent the program from running.\n",
    "    * ERROR: Used to indicate errors that caused a specific function or operation to fail. Example: Logging exceptions that can be recovered from.\n",
    "    * CRITICAL: Used to indicate severe errors that might cause the program to crash or have major consequences. Example: Logging when a required resource is not available."
   ]
  },
  {
   "cell_type": "code",
   "execution_count": 13,
   "id": "f40a0a09-1371-48e5-aabf-bc5859fff31e",
   "metadata": {},
   "outputs": [
    {
     "name": "stderr",
     "output_type": "stream",
     "text": [
      "DEBUG:root:Division result: 5.000000\n"
     ]
    }
   ],
   "source": [
    "import logging\n",
    "\n",
    "logging.basicConfig(level=logging.DEBUG)\n",
    "\n",
    "def divide(a, b):\n",
    "    try:\n",
    "        result = a / b\n",
    "    except ZeroDivisionError:\n",
    "        logging.error(\"Division by zero occurred.\", exc_info=True)\n",
    "    else:\n",
    "        logging.debug(\"Division result: %f\", result)\n",
    "        if result > 10:\n",
    "            logging.warning(\"Result is unusually high: %f\", result)\n",
    "\n",
    "divide(20, 4)\n"
   ]
  },
  {
   "cell_type": "markdown",
   "id": "4d9d016a-691d-4311-81cc-6d2535f9b01d",
   "metadata": {},
   "source": []
  },
  {
   "cell_type": "markdown",
   "id": "930d96f5-539b-4937-8d08-b2c1a98934f1",
   "metadata": {},
   "source": [
    "Q7. What are log formatters in Python logging, and how can you customise the log message format using formatters?\n",
    "* Log formatters in Python logging define the structure and content of log messages. They allow developers to customize the way log messages are presented, including adding timestamps, log levels, module names, and more.\n",
    "\n",
    "* To customize the log message format using formatters:\n",
    "    * Import the logging module.\n",
    "    * Create a formatter instance using the logging.Formatter class, specifying the desired format using format placeholders.\n",
    "    * Configure the handler to use the created formatter."
   ]
  },
  {
   "cell_type": "code",
   "execution_count": null,
   "id": "6392a89e-e043-41c1-888a-a5e43d167ebe",
   "metadata": {},
   "outputs": [],
   "source": [
    "import logging\n",
    "\n",
    "# Create a custom formatter\n",
    "formatter = logging.Formatter('%(asctime)s - %(name)s - %(levelname)s - %(message)s')\n",
    "\n",
    "# Create a logger\n",
    "logger = logging.getLogger('my_logger')\n",
    "logger.setLevel(logging.DEBUG)\n",
    "\n",
    "# Create a handler and assign the formatter\n",
    "file_handler = logging.FileHandler('my_log.log')\n",
    "file_handler.setFormatter(formatter)\n",
    "\n",
    "# Add the handler to the logger\n",
    "logger.addHandler(file_handler)\n",
    "\n",
    "# Log messages\n",
    "logger.debug('Debug message')\n",
    "logger.info('Info message')\n",
    "logger.warning('Warning message')\n"
   ]
  },
  {
   "cell_type": "markdown",
   "id": "d6afa90c-6ee3-4e34-ae54-45ddfc5dd2da",
   "metadata": {},
   "source": []
  },
  {
   "cell_type": "markdown",
   "id": "c11e42c2-73c7-4512-8e83-9a54c7fefe7f",
   "metadata": {},
   "source": [
    "Q8. How can you set up logging to capture log messages from multiple modules or classes in a Python application?\n",
    "* In a central location, configure the logger settings using logging.basicConfig() or logging.dictConfig().\n",
    "* In each module or class, import the logging module and retrieve the logger instance using logging.getLogger(__name__).\n",
    "* Log messages in each module or class using the retrieved logger.\n",
    "\n",
    "This approach ensures that log messages are categorized by their originating modules or classes."
   ]
  },
  {
   "cell_type": "markdown",
   "id": "2d650da6-6778-4795-ac0a-d90938b25f37",
   "metadata": {},
   "source": []
  },
  {
   "cell_type": "markdown",
   "id": "8a2b1083-72e4-4d91-bdd6-d9748f16074e",
   "metadata": {},
   "source": [
    "Q9. What is the difference between the logging and print statements in Python? When should you use logging over print statements in a real-world application?\n",
    "* The main differences between logging and print statements in Python are:\n",
    "\n",
    "* Output Destination:\n",
    "    * print: Outputs messages to the console or standard output.\n",
    "    * logging: Outputs messages to various destinations like console, files, or external services.\n",
    "\n",
    "* Flexibility:\n",
    "    * print: Limited control over formatting and output destination.\n",
    "    * logging: Offers customizable log levels, formats, and destinations.\n",
    "\n",
    "* Granularity:\n",
    "    * print: Often used for temporary debugging, but can clutter code and be hard to manage in larger projects.\n",
    "    * logging: Designed for systematic debugging, monitoring, and tracking application behavior.\n",
    "\n",
    "* Levels of Severity:\n",
    "    * print: Single level of output.\n",
    "    * logging: Provides various log levels (debug, info, warning, error, critical) to categorize message severity.\n",
    "\n",
    "* Production Use:\n",
    "    * print: Best suited for quick debugging and development.\n",
    "    * logging: Essential for production environments, where debugging without altering code is crucial.\n",
    "\n",
    "* In a real-world application, logging is preferred over print statements because it offers more control, structure, and long-term value. Logging enables you to:\n",
    "    * Separate debugging information from application output.\n",
    "    * Control log levels to display only relevant information.\n",
    "    * Store log data for post-mortem analysis and monitoring.\n",
    "    * Output logs to various destinations, aiding in troubleshooting.\n",
    "    * Facilitate collaboration by sharing logs for analysis.\n",
    "* Print statements, on the other hand, are convenient for immediate debugging but are less organized and not suitable for long-term code maintenance."
   ]
  },
  {
   "cell_type": "markdown",
   "id": "78a79a42-7102-4608-9c26-a4decaf3391b",
   "metadata": {},
   "source": []
  },
  {
   "cell_type": "markdown",
   "id": "2da58fbc-8835-4761-8b24-02a10ca91206",
   "metadata": {},
   "source": [
    "Q10. Write a Python program that logs a message to a file named \"app.log\" with the following requirements:\n",
    "* The log message should be \"Hello, World!\"\n",
    "* The log level should be set to \"INFO.\"\n",
    "* The log file should append new log entries without overwriting previous ones."
   ]
  },
  {
   "cell_type": "code",
   "execution_count": 15,
   "id": "9b2ccb6b-0f7e-44c0-8d7b-24a228d9e7ad",
   "metadata": {},
   "outputs": [
    {
     "name": "stderr",
     "output_type": "stream",
     "text": [
      "INFO:root:Hello, World!\n"
     ]
    }
   ],
   "source": [
    "import logging\n",
    "\n",
    "logging.basicConfig(\n",
    "    filename=\"app.log\",\n",
    "    level=logging.INFO,\n",
    "    format=\"%(asctime)s - %(levelname)s - %(message)s\",\n",
    "    filemode=\"a\"\n",
    ")\n",
    "\n",
    "logging.info(\"Hello, World!\")"
   ]
  },
  {
   "cell_type": "markdown",
   "id": "d02d5f74-6e27-47a6-9e27-ae8fa30fc092",
   "metadata": {},
   "source": []
  },
  {
   "cell_type": "markdown",
   "id": "d0fee146-b869-49c6-8c09-154c2310d760",
   "metadata": {},
   "source": [
    "Q11. Create a Python program that logs an error message to the console and a file named \"errors.log\" if an exception occurs during the program's  execution. The error message should include the exception type and a timestamp."
   ]
  },
  {
   "cell_type": "code",
   "execution_count": 16,
   "id": "f74ff744-e926-4913-9747-8f2335d7b17e",
   "metadata": {},
   "outputs": [
    {
     "name": "stderr",
     "output_type": "stream",
     "text": [
      "ERROR:root:An exception occurred: division by zero\n",
      "Traceback (most recent call last):\n",
      "  File \"/tmp/ipykernel_74/4141634943.py\", line 7, in main\n",
      "    result = 10 / 0\n",
      "ZeroDivisionError: division by zero\n"
     ]
    }
   ],
   "source": [
    "import logging\n",
    "import traceback\n",
    "import sys\n",
    "\n",
    "def main():\n",
    "    try:\n",
    "        result = 10 / 0\n",
    "    except Exception as e:\n",
    "        logging.exception(f\"An exception occurred: {e}\")\n",
    "\n",
    "if __name__ == \"__main__\":\n",
    "    logging.basicConfig(\n",
    "        level=logging.ERROR,\n",
    "        format=\"%(asctime)s - %(levelname)s - %(message)s\",\n",
    "        handlers=[\n",
    "            logging.StreamHandler(sys.stdout),\n",
    "            logging.FileHandler(\"errors.log\")\n",
    "        ]\n",
    "    )\n",
    "\n",
    "    main()\n"
   ]
  },
  {
   "cell_type": "code",
   "execution_count": null,
   "id": "683a0c68-dc40-47e0-9a8c-a94aee969597",
   "metadata": {},
   "outputs": [],
   "source": []
  }
 ],
 "metadata": {
  "kernelspec": {
   "display_name": "Python 3 (ipykernel)",
   "language": "python",
   "name": "python3"
  },
  "language_info": {
   "codemirror_mode": {
    "name": "ipython",
    "version": 3
   },
   "file_extension": ".py",
   "mimetype": "text/x-python",
   "name": "python",
   "nbconvert_exporter": "python",
   "pygments_lexer": "ipython3",
   "version": "3.10.6"
  }
 },
 "nbformat": 4,
 "nbformat_minor": 5
}
